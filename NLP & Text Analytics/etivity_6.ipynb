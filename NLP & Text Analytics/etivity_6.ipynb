{
  "nbformat": 4,
  "nbformat_minor": 0,
  "metadata": {
    "colab": {
      "name": "etivity_6.ipynb",
      "provenance": [],
      "collapsed_sections": []
    },
    "kernelspec": {
      "name": "python3",
      "display_name": "Python 3"
    }
  },
  "cells": [
    {
      "cell_type": "markdown",
      "metadata": {
        "id": "lU3Srv3WcUcY"
      },
      "source": [
        "**Name:** Cathaoir Agnew\n",
        "\n",
        "**ID:** 16171659"
      ]
    },
    {
      "cell_type": "markdown",
      "metadata": {
        "id": "mKLyoxsCccDH"
      },
      "source": [
        "# Task 1 \n",
        "*********************************************\n",
        "\n",
        "Sentiment analysis is the interpretation and classification of emotions within a text. Write a Sentiment Analysis function, which takes a string as input and identifies its sentiment using the TextBlob library.\n"
      ]
    },
    {
      "cell_type": "code",
      "metadata": {
        "id": "5AyB5drRcKRr"
      },
      "source": [
        "from textblob import TextBlob\n",
        "\n",
        "def sentimentAnalyzer(string):\n",
        "\n",
        "  if type(string) == str:\n",
        "    \n",
        "    # print out input string\n",
        "    print(\"string = \", string)\n",
        "\n",
        "    # using textblob to calculate sentiment\n",
        "    sentence = TextBlob(string)\n",
        "    sentence_sent = sentence.sentiment\n",
        "\n",
        "    #printing out polarity & subjectivity\n",
        "    print(f'\\n{sentence_sent}')\n",
        "\n",
        "    # if polarity (aka sentiment) is > 0 its a postive sentiment\n",
        "    if sentence_sent[0] > 0:\n",
        "      print('positive sentiment 😊')\n",
        "\n",
        "    # if polarity (aka sentiment) is < 0 its a negative sentiment\n",
        "    if sentence_sent[0] < 0:\n",
        "      print('negative sentiment 😢')\n",
        "\n",
        "    # if polarity (aka sentiment) is == 0 its a neutral sentiment\n",
        "    if sentence_sent[0] == 0:\n",
        "      print(\"neutral sentiment 😐\")\n",
        "\n",
        "    # print out subjectivity\n",
        "    print(\"subjectivity: \", sentence_sent[1])\n",
        "\n",
        "  else:\n",
        "    print(\"Please input a string.\")\n"
      ],
      "execution_count": 1,
      "outputs": []
    },
    {
      "cell_type": "code",
      "metadata": {
        "colab": {
          "base_uri": "https://localhost:8080/"
        },
        "id": "u0P5mh_UetOZ",
        "outputId": "4a51f9e5-e8ef-4865-b1f0-a426124a3dc3"
      },
      "source": [
        "sentimentAnalyzer('NLP is cool')"
      ],
      "execution_count": 2,
      "outputs": [
        {
          "output_type": "stream",
          "text": [
            "string =  NLP is cool\n",
            "\n",
            "Sentiment(polarity=0.35, subjectivity=0.65)\n",
            "positive sentiment 😊\n",
            "subjectivity:  0.65\n"
          ],
          "name": "stdout"
        }
      ]
    },
    {
      "cell_type": "code",
      "metadata": {
        "colab": {
          "base_uri": "https://localhost:8080/"
        },
        "id": "pRvv0OiUe1aD",
        "outputId": "36dd6a49-9820-4b96-cedc-98b507b0467f"
      },
      "source": [
        "sentimentAnalyzer('NLP is cool and useful')"
      ],
      "execution_count": 3,
      "outputs": [
        {
          "output_type": "stream",
          "text": [
            "string =  NLP is cool and useful\n",
            "\n",
            "Sentiment(polarity=0.32499999999999996, subjectivity=0.325)\n",
            "positive sentiment 😊\n",
            "subjectivity:  0.325\n"
          ],
          "name": "stdout"
        }
      ]
    },
    {
      "cell_type": "code",
      "metadata": {
        "colab": {
          "base_uri": "https://localhost:8080/"
        },
        "id": "BU8dAl0Te1O9",
        "outputId": "774bf988-f7e2-4792-b839-f1be32aa7652"
      },
      "source": [
        "sentimentAnalyzer('NLP is hard')"
      ],
      "execution_count": 4,
      "outputs": [
        {
          "output_type": "stream",
          "text": [
            "string =  NLP is hard\n",
            "\n",
            "Sentiment(polarity=-0.2916666666666667, subjectivity=0.5416666666666666)\n",
            "negative sentiment 😢\n",
            "subjectivity:  0.5416666666666666\n"
          ],
          "name": "stdout"
        }
      ]
    },
    {
      "cell_type": "code",
      "metadata": {
        "colab": {
          "base_uri": "https://localhost:8080/"
        },
        "id": "-KhI7xxWe0xF",
        "outputId": "f3c8f4e0-4f05-46e5-d86d-a53d6270eb98"
      },
      "source": [
        "sentimentAnalyzer('NLP is hard and useless')"
      ],
      "execution_count": 5,
      "outputs": [
        {
          "output_type": "stream",
          "text": [
            "string =  NLP is hard and useless\n",
            "\n",
            "Sentiment(polarity=-0.39583333333333337, subjectivity=0.37083333333333335)\n",
            "negative sentiment 😢\n",
            "subjectivity:  0.37083333333333335\n"
          ],
          "name": "stdout"
        }
      ]
    },
    {
      "cell_type": "markdown",
      "metadata": {
        "id": "WYvRaVQHcTwL"
      },
      "source": [
        "# Task 2 \n",
        "*******************************\n",
        "\n",
        "Write a function which takes in a list of training documents and a list of testing documents as input and uses the textblob.classifiers module to classify them and print out the classification accuracy."
      ]
    },
    {
      "cell_type": "code",
      "metadata": {
        "colab": {
          "base_uri": "https://localhost:8080/"
        },
        "id": "LS-5V2B5gZpm",
        "outputId": "92421286-82a1-4dcf-b92f-45d2c960ef76"
      },
      "source": [
        "import nltk\n",
        "nltk.download('punkt')\n",
        "\n",
        "from textblob.classifiers import NaiveBayesClassifier\n",
        "\n",
        "def naivebayesClassifier(trainingSet, testSet):\n",
        "\n",
        "  # train NB classifier\n",
        "  nb_clf = NaiveBayesClassifier(trainingSet)\n",
        "\n",
        "  # prints out test data & predicted class\n",
        "  for i in testSet:\n",
        "    print(f\"\\ndocument: {i} \\t , predicted class: '{nb_clf.classify(i[0])}' \")\n",
        "\n",
        "  # get accuracy of classifier\n",
        "  acc = nb_clf.accuracy(testSet)\n",
        "\n",
        "  print(\"\\nAccuracy: \", acc)\n"
      ],
      "execution_count": 7,
      "outputs": [
        {
          "output_type": "stream",
          "text": [
            "[nltk_data] Downloading package punkt to /root/nltk_data...\n",
            "[nltk_data]   Package punkt is already up-to-date!\n"
          ],
          "name": "stdout"
        }
      ]
    },
    {
      "cell_type": "code",
      "metadata": {
        "colab": {
          "base_uri": "https://localhost:8080/"
        },
        "id": "w0lOY3z5gmiG",
        "outputId": "4bad3e69-db93-4d9c-8b8b-e56bd47873b3"
      },
      "source": [
        "training = [ ('London is the capital of GB' , 'GB'), ('Oxford is a city in GB' , 'GB') , ('Dublin is the capital of Ireland' , 'IE'), ('Limerick is a city in Ireland', 'IE') ]  \n",
        "test = [('University of Limerick' , 'IE') , ('University College Dublin' , 'IE') , ('Imperial College London' , 'GB') , ('University of Oxford', 'GB') , (\"Dublin in Ireland\", \"IE\") ] \n",
        "\n",
        "naivebayesClassifier(training, test)"
      ],
      "execution_count": 12,
      "outputs": [
        {
          "output_type": "stream",
          "text": [
            "\n",
            "document: ('University of Limerick', 'IE') \t , predicted class: 'IE' \n",
            "\n",
            "document: ('University College Dublin', 'IE') \t , predicted class: 'IE' \n",
            "\n",
            "document: ('Imperial College London', 'GB') \t , predicted class: 'GB' \n",
            "\n",
            "document: ('University of Oxford', 'GB') \t , predicted class: 'GB' \n",
            "\n",
            "document: ('Dublin in Ireland', 'IE') \t , predicted class: 'IE' \n",
            "\n",
            "Accuracy:  1.0\n"
          ],
          "name": "stdout"
        }
      ]
    },
    {
      "cell_type": "markdown",
      "metadata": {
        "id": "hSyPKVnmuVbs"
      },
      "source": [
        "# Task 3 \n",
        "*******************************************\n",
        "\n",
        "Write a python code snippet to:\n",
        "Download the BBC text classification dataset from https://storage.googleapis.com/dataset-uploader/bbc/bbc-text.csv  <br>\n",
        "Print out:\n",
        "A number of sample docs from the dataset\n",
        "Total number of docs in the dataset\n",
        "Number of docs per class\n",
        "Split the data into training and test sets (80/20 training/test split) \n",
        "Use the textblob.classifiers module to train and test a naive Bayes classifier and print out the model’s accuracy. (NOTE: Given the large size of the BBC dataset, the training and testing process could take 5 minutes)"
      ]
    },
    {
      "cell_type": "markdown",
      "metadata": {
        "id": "P55MNdTqwqz-"
      },
      "source": [
        "### Reading in data"
      ]
    },
    {
      "cell_type": "code",
      "metadata": {
        "colab": {
          "base_uri": "https://localhost:8080/"
        },
        "id": "laZKPCy7utYa",
        "outputId": "d86a6c64-6ce8-4cab-c9bb-4e560307da3b"
      },
      "source": [
        "import pandas as pd\n",
        " \n",
        "!wget https://storage.googleapis.com/dataset-uploader/bbc/bbc-text.csv \n",
        " \n",
        "filePath1 = \"/content/bbc-text.csv\"\n",
        " \n",
        "df = pd.read_csv(filePath1, sep=',',header=0)"
      ],
      "execution_count": 13,
      "outputs": [
        {
          "output_type": "stream",
          "text": [
            "--2020-12-04 11:53:34--  https://storage.googleapis.com/dataset-uploader/bbc/bbc-text.csv\n",
            "Resolving storage.googleapis.com (storage.googleapis.com)... 173.194.218.128, 172.217.204.128, 172.217.203.128, ...\n",
            "Connecting to storage.googleapis.com (storage.googleapis.com)|173.194.218.128|:443... connected.\n",
            "HTTP request sent, awaiting response... 200 OK\n",
            "Length: 5057493 (4.8M) [text/csv]\n",
            "Saving to: ‘bbc-text.csv’\n",
            "\n",
            "\rbbc-text.csv          0%[                    ]       0  --.-KB/s               \rbbc-text.csv        100%[===================>]   4.82M  --.-KB/s    in 0.03s   \n",
            "\n",
            "2020-12-04 11:53:34 (154 MB/s) - ‘bbc-text.csv’ saved [5057493/5057493]\n",
            "\n"
          ],
          "name": "stdout"
        }
      ]
    },
    {
      "cell_type": "markdown",
      "metadata": {
        "id": "C0DIL0ffwth-"
      },
      "source": [
        "### Sample docs from the dataset"
      ]
    },
    {
      "cell_type": "code",
      "metadata": {
        "colab": {
          "base_uri": "https://localhost:8080/"
        },
        "id": "W0_5gfFH7rck",
        "outputId": "a66160f7-052a-429a-8d26-ed2af742b49f"
      },
      "source": [
        "print(df.head())\n",
        "print(\" \")\n",
        "\n",
        "# going to reorder index so its text , category, like sample output  \n",
        "# https://stackoverflow.com/questions/25649429/how-to-swap-two-dataframe-columns\n",
        "\n",
        "print(\"\\nSwapping cols to macth sample output\\n\")\n",
        "\n",
        "columns_titles = [\"text\",\"category\"]\n",
        "df_reorder = df.reindex(columns=columns_titles)\n",
        "print(df_reorder.head())\n"
      ],
      "execution_count": 16,
      "outputs": [
        {
          "output_type": "stream",
          "text": [
            "        category                                               text\n",
            "0           tech  tv future in the hands of viewers with home th...\n",
            "1       business  worldcom boss  left books alone  former worldc...\n",
            "2          sport  tigers wary of farrell  gamble  leicester say ...\n",
            "3          sport  yeading face newcastle in fa cup premiership s...\n",
            "4  entertainment  ocean s twelve raids box office ocean s twelve...\n",
            " \n",
            "\n",
            "Swapping cols to macth sample output\n",
            "\n",
            "                                                text       category\n",
            "0  tv future in the hands of viewers with home th...           tech\n",
            "1  worldcom boss  left books alone  former worldc...       business\n",
            "2  tigers wary of farrell  gamble  leicester say ...          sport\n",
            "3  yeading face newcastle in fa cup premiership s...          sport\n",
            "4  ocean s twelve raids box office ocean s twelve...  entertainment\n"
          ],
          "name": "stdout"
        }
      ]
    },
    {
      "cell_type": "code",
      "metadata": {
        "colab": {
          "base_uri": "https://localhost:8080/",
          "height": 111
        },
        "id": "GN6HvkxhwZzR",
        "outputId": "1f46a0fd-5b4c-41b9-d4c8-5a59bdd46cb4"
      },
      "source": [
        "df_reorder.iloc[0,0]"
      ],
      "execution_count": 17,
      "outputs": [
        {
          "output_type": "execute_result",
          "data": {
            "application/vnd.google.colaboratory.intrinsic+json": {
              "type": "string"
            },
            "text/plain": [
              "'tv future in the hands of viewers with home theatre systems  plasma high-definition tvs  and digital video recorders moving into the living room  the way people watch tv will be radically different in five years  time.  that is according to an expert panel which gathered at the annual consumer electronics show in las vegas to discuss how these new technologies will impact one of our favourite pastimes. with the us leading the trend  programmes and other content will be delivered to viewers via home networks  through cable  satellite  telecoms companies  and broadband service providers to front rooms and portable devices.  one of the most talked-about technologies of ces has been digital and personal video recorders (dvr and pvr). these set-top boxes  like the us s tivo and the uk s sky+ system  allow people to record  store  play  pause and forward wind tv programmes when they want.  essentially  the technology allows for much more personalised tv. they are also being built-in to high-definition tv sets  which are big business in japan and the us  but slower to take off in europe because of the lack of high-definition programming. not only can people forward wind through adverts  they can also forget about abiding by network and channel schedules  putting together their own a-la-carte entertainment. but some us networks and cable and satellite companies are worried about what it means for them in terms of advertising revenues as well as  brand identity  and viewer loyalty to channels. although the us leads in this technology at the moment  it is also a concern that is being raised in europe  particularly with the growing uptake of services like sky+.  what happens here today  we will see in nine months to a years  time in the uk   adam hume  the bbc broadcast s futurologist told the bbc news website. for the likes of the bbc  there are no issues of lost advertising revenue yet. it is a more pressing issue at the moment for commercial uk broadcasters  but brand loyalty is important for everyone.  we will be talking more about content brands rather than network brands   said tim hanlon  from brand communications firm starcom mediavest.  the reality is that with broadband connections  anybody can be the producer of content.  he added:  the challenge now is that it is hard to promote a programme with so much choice.   what this means  said stacey jolna  senior vice president of tv guide tv group  is that the way people find the content they want to watch has to be simplified for tv viewers. it means that networks  in us terms  or channels could take a leaf out of google s book and be the search engine of the future  instead of the scheduler to help people find what they want to watch. this kind of channel model might work for the younger ipod generation which is used to taking control of their gadgets and what they play on them. but it might not suit everyone  the panel recognised. older generations are more comfortable with familiar schedules and channel brands because they know what they are getting. they perhaps do not want so much of the choice put into their hands  mr hanlon suggested.  on the other end  you have the kids just out of diapers who are pushing buttons already - everything is possible and available to them   said mr hanlon.  ultimately  the consumer will tell the market they want.   of the 50 000 new gadgets and technologies being showcased at ces  many of them are about enhancing the tv-watching experience. high-definition tv sets are everywhere and many new models of lcd (liquid crystal display) tvs have been launched with dvr capability built into them  instead of being external boxes. one such example launched at the show is humax s 26-inch lcd tv with an 80-hour tivo dvr and dvd recorder. one of the us s biggest satellite tv companies  directtv  has even launched its own branded dvr at the show with 100-hours of recording capability  instant replay  and a search function. the set can pause and rewind tv for up to 90 hours. and microsoft chief bill gates announced in his pre-show keynote speech a partnership with tivo  called tivotogo  which means people can play recorded programmes on windows pcs and mobile devices. all these reflect the increasing trend of freeing up multimedia so that people can watch what they want  when they want.'"
            ]
          },
          "metadata": {
            "tags": []
          },
          "execution_count": 17
        }
      ]
    },
    {
      "cell_type": "markdown",
      "metadata": {
        "id": "oSFggKR0xK0z"
      },
      "source": [
        "### Total number of docs in the dataset"
      ]
    },
    {
      "cell_type": "code",
      "metadata": {
        "colab": {
          "base_uri": "https://localhost:8080/"
        },
        "id": "LlDcVcpTxfeF",
        "outputId": "e52cf90f-f94b-41a4-f839-6117d3514ea1"
      },
      "source": [
        "print(f'Number of docs: {df_reorder.text.size}')"
      ],
      "execution_count": 18,
      "outputs": [
        {
          "output_type": "stream",
          "text": [
            "Number of docs: 2225\n"
          ],
          "name": "stdout"
        }
      ]
    },
    {
      "cell_type": "markdown",
      "metadata": {
        "id": "SlmVuBKPyFTx"
      },
      "source": [
        "### Number of docs per class"
      ]
    },
    {
      "cell_type": "code",
      "metadata": {
        "colab": {
          "base_uri": "https://localhost:8080/"
        },
        "id": "Vspq00qRxtFM",
        "outputId": "4416c55f-8ecf-4d34-8fde-026bedf244c0"
      },
      "source": [
        "print(f\"Documents per category:\\n\\n{df_reorder.category.value_counts()}\")"
      ],
      "execution_count": 19,
      "outputs": [
        {
          "output_type": "stream",
          "text": [
            "Documents per category:\n",
            "\n",
            "sport            511\n",
            "business         510\n",
            "politics         417\n",
            "tech             401\n",
            "entertainment    386\n",
            "Name: category, dtype: int64\n"
          ],
          "name": "stdout"
        }
      ]
    },
    {
      "cell_type": "markdown",
      "metadata": {
        "id": "HeuNgGZ8ySOX"
      },
      "source": [
        "### Splitting the data \n",
        "\n",
        "Commented out below just because ram crashes if I try to run 2 classifiers. So decided to copy Arash output from etivity task, but below works perfectly fine, train test split offers the option to straify, so this potenially could help build a more robust model."
      ]
    },
    {
      "cell_type": "code",
      "metadata": {
        "id": "1Acjp4IByR0L"
      },
      "source": [
        "# from sklearn.model_selection import train_test_split\n",
        "\n",
        "# X = df_reorder['text']\n",
        "# y = df_reorder['category']\n",
        "\n",
        "# X_train, X_test , y_train , y_test = train_test_split(X , y , test_size = 0.2, random_state = 42 , stratify = y)\n",
        "\n",
        "# # now stich them back together\n",
        "# train = list(zip(X_train, y_train))\n",
        "# test = list(zip(X_test, y_test))\n",
        "\n",
        "# print(train[0:2])\n",
        "# print(\" \")\n",
        "# print(test[1:3])\n",
        "# print(\" \")\n",
        "# print(len(train))\n",
        "# print(\" \")\n",
        "# print(len(test))"
      ],
      "execution_count": null,
      "outputs": []
    },
    {
      "cell_type": "code",
      "metadata": {
        "id": "MiOuib3bzA9Y"
      },
      "source": [
        "# from textblob.classifiers import NaiveBayesClassifier\n",
        "\n",
        "# nb_clf = NaiveBayesClassifier(train)\n",
        "\n",
        "# print(\"Accuracy = \", nb_clf.accuracy(test))"
      ],
      "execution_count": null,
      "outputs": []
    },
    {
      "cell_type": "markdown",
      "metadata": {
        "id": "6GukGPqk9yJR"
      },
      "source": [
        "## Replicating Arash's output from etivity \n",
        "*******************************************"
      ]
    },
    {
      "cell_type": "code",
      "metadata": {
        "colab": {
          "base_uri": "https://localhost:8080/"
        },
        "id": "-IbcZ96L9yhu",
        "outputId": "ccb80482-f407-4e7d-f74d-462f02e165c5"
      },
      "source": [
        "print(\"Train size: 1780\")\n",
        "print(\"Test size: 445\")\n",
        "\n",
        "print(\"\\nTraining Set Samples\")\n",
        "print(df_reorder[:1780])\n",
        "\n",
        "print(\"\\nTest Set Samples\")\n",
        "print(df_reorder[1780:])\n",
        "\n",
        "# convert dataframe to a list of tuples like previous example in task 2\n",
        "# https://www.kite.com/python/answers/how-to-convert-a-pandas-dataframe-into-a-list-of-tuples-in-python\n",
        "\n",
        "data = df_reorder.to_records(index=False)\n",
        "\n",
        "# split into train & test  with 80% training.\n",
        "# 80% of 2225 = 80/100 * (2225) = 1780 \n",
        "\n",
        "training_2 = data[:1780]\n",
        "testing_2  = data[1780:]"
      ],
      "execution_count": 21,
      "outputs": [
        {
          "output_type": "stream",
          "text": [
            "Train size: 1780\n",
            "Test size: 445\n",
            "\n",
            "Training Set Samples\n",
            "                                                   text       category\n",
            "0     tv future in the hands of viewers with home th...           tech\n",
            "1     worldcom boss  left books alone  former worldc...       business\n",
            "2     tigers wary of farrell  gamble  leicester say ...          sport\n",
            "3     yeading face newcastle in fa cup premiership s...          sport\n",
            "4     ocean s twelve raids box office ocean s twelve...  entertainment\n",
            "...                                                 ...            ...\n",
            "1775  china  blocks google news site  china has been...           tech\n",
            "1776  labour accused of  eu propaganda  a  taxpayer ...       politics\n",
            "1777  tevez - an argentine in brazil some 65 years a...          sport\n",
            "1778  water firm suez in argentina row a conflict be...       business\n",
            "1779  tv presenter deeley drops cd:uk cat deeley has...  entertainment\n",
            "\n",
            "[1780 rows x 2 columns]\n",
            "\n",
            "Test Set Samples\n",
            "                                                   text       category\n",
            "1780  hobbit picture  four years away  lord of the r...  entertainment\n",
            "1781  game firm holds  cast  auditions video game fi...           tech\n",
            "1782  clarke plans migrant point scheme anyone plann...       politics\n",
            "1783  radcliffe will compete in london paula radclif...          sport\n",
            "1784  serena becomes world number two serena william...          sport\n",
            "...                                                 ...            ...\n",
            "2220  cars pull down us retail figures us retail sal...       business\n",
            "2221  kilroy unveils immigration policy ex-chatshow ...       politics\n",
            "2222  rem announce new glasgow concert us band rem h...  entertainment\n",
            "2223  how political squabbles snowball it s become c...       politics\n",
            "2224  souness delight at euro progress boss graeme s...          sport\n",
            "\n",
            "[445 rows x 2 columns]\n"
          ],
          "name": "stdout"
        }
      ]
    },
    {
      "cell_type": "code",
      "metadata": {
        "id": "b9dxiKO0-M6_",
        "colab": {
          "base_uri": "https://localhost:8080/"
        },
        "outputId": "873703a1-570c-4aee-f560-7e3e023e88c5"
      },
      "source": [
        "from textblob.classifiers import NaiveBayesClassifier\n",
        "\n",
        "nb_clf_2 = NaiveBayesClassifier(training_2)\n",
        "\n",
        "print(\"Accuracy = \", nb_clf_2.accuracy(testing_2))"
      ],
      "execution_count": 22,
      "outputs": [
        {
          "output_type": "stream",
          "text": [
            "Accuracy =  0.9707865168539326\n"
          ],
          "name": "stdout"
        }
      ]
    }
  ]
}