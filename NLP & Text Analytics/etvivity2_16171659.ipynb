{
  "nbformat": 4,
  "nbformat_minor": 0,
  "metadata": {
    "colab": {
      "name": "etvivity2_16171659.ipynb",
      "provenance": [],
      "collapsed_sections": []
    },
    "kernelspec": {
      "name": "python3",
      "display_name": "Python 3"
    }
  },
  "cells": [
    {
      "cell_type": "markdown",
      "metadata": {
        "id": "aatfHvgFOQ2O"
      },
      "source": [
        "Name: Cathaoir Agnew\n",
        "\n",
        "ID : 16171659\n"
      ]
    },
    {
      "cell_type": "markdown",
      "metadata": {
        "id": "eBO9-VB3OP7q"
      },
      "source": [
        "#**Task 1**  \n",
        "********************************************************************************"
      ]
    },
    {
      "cell_type": "markdown",
      "metadata": {
        "id": "GRsuYJ0nUp-T"
      },
      "source": [
        "### **Part A**"
      ]
    },
    {
      "cell_type": "code",
      "metadata": {
        "id": "D0XZVG5uOPkw"
      },
      "source": [
        "# edit distance function \n",
        "def edDistRecursive(x,y):\n",
        "  if len(x) == 0: return len(y)\n",
        "  if len(y) == 0: return len(x)\n",
        "\n",
        "  #levenshtein has a subsitution cost of 2\n",
        "  delt = 2 if x[-1] != y[-1] else 0\n",
        "\n",
        "  diag = edDistRecursive(x[:-1], y[:-1]) + delt\n",
        "  vert = edDistRecursive(x[:-1], y) + 1\n",
        "  horz = edDistRecursive(x, y[:-1]) + 1\n",
        "\n",
        "  return min(diag,vert,horz)"
      ],
      "execution_count": 37,
      "outputs": []
    },
    {
      "cell_type": "markdown",
      "metadata": {
        "id": "sP8iybpdUtEM"
      },
      "source": [
        "### **Part B**"
      ]
    },
    {
      "cell_type": "code",
      "metadata": {
        "id": "SZuBjwqCQf3q",
        "outputId": "7f453038-c5d2-44be-952b-af4a019fa322",
        "colab": {
          "base_uri": "https://localhost:8080/"
        }
      },
      "source": [
        "import time\n",
        "\n",
        "start = time.time()\n",
        "str1 = 'INTENTION'\n",
        "str2 = 'EXECUTION'\n",
        "print(f'Edit Distance between \"{str1}\" and \"{str2}\": {edDistRecursive(str1, str2)}')\n",
        "end = time.time()\n",
        "\n",
        "print(\"---\" ,end-start ,\"seconds ---\")"
      ],
      "execution_count": 38,
      "outputs": [
        {
          "output_type": "stream",
          "text": [
            "Edit Distance between \"INTENTION\" and \"EXECUTION\": 8\n",
            "--- 0.834557294845581 seconds ---\n"
          ],
          "name": "stdout"
        }
      ]
    },
    {
      "cell_type": "markdown",
      "metadata": {
        "id": "RBOAusMJU4Zy"
      },
      "source": [
        "#**Task 2**  \n",
        "********************************************************************************\n"
      ]
    },
    {
      "cell_type": "markdown",
      "metadata": {
        "id": "cHCaWOauV8b8"
      },
      "source": [
        "### **Part A,B**"
      ]
    },
    {
      "cell_type": "code",
      "metadata": {
        "id": "iY95A6TBVmgc",
        "outputId": "5f5f0a4b-52bb-4c55-fb1f-2bdd6f7446b4",
        "colab": {
          "base_uri": "https://localhost:8080/"
        }
      },
      "source": [
        "\n",
        "# A Dynamic Programming based Python program for edit distance problem \n",
        "def editDistDP(str1, str2, m, n): \n",
        "    # Create a table to store results of subproblems \n",
        "    dp = [[0 for x in range(n + 1)] for x in range(m + 1)] \n",
        "  \n",
        "    # Fill dp[][] in bottom up manner \n",
        "    for i in range(m + 1): \n",
        "        for j in range(n + 1): \n",
        "  \n",
        "            # If first string is empty, only option is to insert all characters of second string \n",
        "            if i == 0: \n",
        "                dp[i][j] = j    # Min. operations = j \n",
        "  \n",
        "            # If second string is empty, only option is to remove all characters of first string \n",
        "            elif j == 0: \n",
        "                dp[i][j] = i    # Min. operations = i \n",
        "  \n",
        "            # If last characters are same, ignore last char and recur for remaining string \n",
        "            elif str1[i-1] == str2[j-1]: \n",
        "                dp[i][j] = dp[i-1][j-1] \n",
        "  \n",
        "            # If last character are different, consider all possibilities and find minimum \n",
        "            else: \n",
        "                dp[i][j] =  1 +  min(dp[i][j-1]   ,      # Insert \n",
        "                                     dp[i-1][j]     ,    # Remove \n",
        "                                     dp[i-1][j-1] + 1)   # Replace carries a cost of 2, \n",
        "                                                       # so must add 1 to dp[i-1][j-1] to account for this as 1 is going to be already added to it\n",
        "\n",
        "           # below would also work \n",
        "           # If last character are different, consider all possibilities and find minimum \n",
        "           #else: \n",
        "               # dp[i][j] =     min( dp[i][j-1] + 1,        # Insert \n",
        "               #                     dp[i-1][j] + 1,        # Remove \n",
        "               #                     dp[i-1][j-1] + 2 )     # Replace carries a cost of 2, \n",
        "\n",
        "    return dp[m][n]\n",
        "    \n",
        "  \n",
        "# Driver program \n",
        "start1 = time.time()\n",
        "\n",
        "str1 = \"INTENTION\"\n",
        "str2 = \"EXECUTION\" \n",
        "print(\"Levenshtein distance:\" ,editDistDP(str1, str2, len(str1), len(str2))) \n",
        "end1 = time.time()\n",
        "\n",
        "print(\"---\" ,end1-start1 ,\"seconds ---\")"
      ],
      "execution_count": 39,
      "outputs": [
        {
          "output_type": "stream",
          "text": [
            "Levenshtein distance: 8\n",
            "--- 0.0002598762512207031 seconds ---\n"
          ],
          "name": "stdout"
        }
      ]
    },
    {
      "cell_type": "markdown",
      "metadata": {
        "id": "jDv_DNLEu0n6"
      },
      "source": [
        "### **Part C**"
      ]
    },
    {
      "cell_type": "code",
      "metadata": {
        "id": "dQbv-yAGOccd",
        "outputId": "06b227aa-8864-4a3c-9d83-dc9c1afbf2a4",
        "colab": {
          "base_uri": "https://localhost:8080/"
        }
      },
      "source": [
        "from tabulate import tabulate\n",
        "\n",
        "# A Dynamic Programming based Python program for edit distance problem \n",
        "def editDistDP(str1, str2, m, n): \n",
        "    # Create a table to store results of subproblems \n",
        "    dp = [[0 for x in range(n + 1)] for x in range(m + 1)] \n",
        "    ptr = [[\"\" for x in range(n + 1)] for x in range(m + 1)] \n",
        "  \n",
        "    # Fill dp[][] in bottom up manner \n",
        "    for i in range(m + 1): \n",
        "        for j in range(n + 1): \n",
        "\n",
        "            # If first string is empty, only option is to insert all characters of second string \n",
        "            if i == 0: \n",
        "                dp[i][j] = j    # Min. operations = j \n",
        "\n",
        "                if j > 0:          \n",
        "                  ptr[i][j] = '⇐' + str(dp[i][j])\n",
        "  \n",
        "            # If second string is empty, only option is to remove all characters of first string \n",
        "            elif j == 0: \n",
        "                dp[i][j] = i    # Min. operations = i \n",
        "                if i > 0:\n",
        "                  ptr[i][j] = \"⇑\" + str(dp[i][j])\n",
        "  \n",
        "            # If last characters are same, ignore last char and recur for remaining string \n",
        "            elif str1[i-1] == str2[j-1]: \n",
        "                dp[i][j] = dp[i-1][j-1]\n",
        "\n",
        "                if dp[i][j] - dp[i-1][j-1] == 0:\n",
        "                  ptr[i][j] +=  (\"⇖\") \n",
        "\n",
        "                if dp[i][j] - dp[i][j-1] == 1:\n",
        "                  ptr[i][j] +=  '⇐' \n",
        "\n",
        "                if dp[i][j] - dp[i-1][j] == 1:\n",
        "                  ptr[i][j] +=  \"⇑\" \n",
        "\n",
        "                ptr[i][j] += str(dp[i][j])                \n",
        "  \n",
        "            # If last character are different, consider all possibilities and find minimum \n",
        "            else: \n",
        "                dp[i][j] =      min(dp[i][j-1] + 1   ,  # Insert \n",
        "                                    dp[i-1][j] + 1  ,   # Remove \n",
        "                                    dp[i-1][j-1] + 2)   # Replace carries a cost of 2, \n",
        "                                                \n",
        "                #arrows = ['⇐' ,\"⇑\", \"⇖\"]\n",
        "\n",
        "                if dp[i][j] - dp[i-1][j-1] == 2:\n",
        "                  ptr[i][j] +=  (\"⇖\") \n",
        "\n",
        "                if dp[i][j] - dp[i][j-1] == 1:\n",
        "                  ptr[i][j] +=  '⇐' \n",
        "\n",
        "                if dp[i][j] - dp[i-1][j] == 1:\n",
        "                  ptr[i][j] +=  \"⇑\" \n",
        "\n",
        "                ptr[i][j] += str(dp[i][j])\n",
        "            \n",
        "            ptr[0][0] = 0\n",
        "\n",
        "    \n",
        "    ptr_tab = tabulate(ptr)\n",
        "\n",
        "    return ptr_tab\n",
        "\n",
        "    \n",
        "# Driver program \n",
        "start1 = time.time()\n",
        "\n",
        "str1 = \"INTENTION\"\n",
        "str2 = \"EXECUTION\" \n",
        "print(editDistDP(str1, str2, len(str1), len(str2))) \n",
        "\n",
        "end1 = time.time()\n",
        "\n",
        "print(\"---\" ,end1-start1 ,\"seconds ---\")"
      ],
      "execution_count": 40,
      "outputs": [
        {
          "output_type": "stream",
          "text": [
            "--  ----  ----  -----  -----  -----  ----  -----  -----  ----\n",
            "0   ⇐1    ⇐2    ⇐3     ⇐4     ⇐5     ⇐6    ⇐7     ⇐8     ⇐9\n",
            "⇑1  ⇖⇐⇑2  ⇖⇐⇑3  ⇖⇐⇑4   ⇖⇐⇑5   ⇖⇐⇑6   ⇖⇐⇑7  ⇖6     ⇐7     ⇐8\n",
            "⇑2  ⇖⇐⇑3  ⇖⇐⇑4  ⇖⇐⇑5   ⇖⇐⇑6   ⇖⇐⇑7   ⇖⇐⇑8  ⇑7     ⇖⇐⇑8   ⇖7\n",
            "⇑3  ⇖⇐⇑4  ⇖⇐⇑5  ⇖⇐⇑6   ⇖⇐⇑7   ⇖⇐⇑8   ⇖7    ⇐⇑8    ⇖⇐⇑9   ⇑8\n",
            "⇑4  ⇖3    ⇐4    ⇖⇐5    ⇐6     ⇐7     ⇐⇑8   ⇖⇐⇑9   ⇖⇐⇑10  ⇑9\n",
            "⇑5  ⇑4    ⇖⇐⇑5  ⇖⇐⇑6   ⇖⇐⇑7   ⇖⇐⇑8   ⇖⇐⇑9  ⇖⇐⇑10  ⇖⇐⇑11  ⇖⇑10\n",
            "⇑6  ⇑5    ⇖⇐⇑6  ⇖⇐⇑7   ⇖⇐⇑8   ⇖⇐⇑9   ⇖8    ⇐9     ⇐10    ⇐⇑11\n",
            "⇑7  ⇑6    ⇖⇐⇑7  ⇖⇐⇑8   ⇖⇐⇑9   ⇖⇐⇑10  ⇑9    ⇖8     ⇐9     ⇐10\n",
            "⇑8  ⇑7    ⇖⇐⇑8  ⇖⇐⇑9   ⇖⇐⇑10  ⇖⇐⇑11  ⇑10   ⇑9     ⇖8     ⇐9\n",
            "⇑9  ⇑8    ⇖⇐⇑9  ⇖⇐⇑10  ⇖⇐⇑11  ⇖⇐⇑12  ⇑11   ⇑10    ⇑9     ⇖8\n",
            "--  ----  ----  -----  -----  -----  ----  -----  -----  ----\n",
            "--- 0.0018832683563232422 seconds ---\n"
          ],
          "name": "stdout"
        }
      ]
    },
    {
      "cell_type": "markdown",
      "metadata": {
        "id": "v5XQuc3t21lv"
      },
      "source": [
        "#**Part 3**  \n",
        "********************************************************************************"
      ]
    },
    {
      "cell_type": "markdown",
      "metadata": {
        "id": "Q9_MQA8726SN"
      },
      "source": [
        "### **Part A** "
      ]
    },
    {
      "cell_type": "code",
      "metadata": {
        "id": "pSNeYSOJ25SM",
        "outputId": "adf366d4-9d28-4790-d64f-d4624f2e910e",
        "colab": {
          "base_uri": "https://localhost:8080/"
        }
      },
      "source": [
        "!pip install names-dataset"
      ],
      "execution_count": 41,
      "outputs": [
        {
          "output_type": "stream",
          "text": [
            "Requirement already satisfied: names-dataset in /usr/local/lib/python3.6/dist-packages (1.9.1)\n"
          ],
          "name": "stdout"
        }
      ]
    },
    {
      "cell_type": "markdown",
      "metadata": {
        "id": "gfK0QOVU3jrz"
      },
      "source": [
        "### **Part B**"
      ]
    },
    {
      "cell_type": "code",
      "metadata": {
        "id": "HiYHPQl-3cYe",
        "outputId": "a1260b33-b26f-4e96-c480-0b43b892e0d4",
        "colab": {
          "base_uri": "https://localhost:8080/"
        }
      },
      "source": [
        "!pip install jellyfish"
      ],
      "execution_count": 42,
      "outputs": [
        {
          "output_type": "stream",
          "text": [
            "Requirement already satisfied: jellyfish in /usr/local/lib/python3.6/dist-packages (0.8.2)\n"
          ],
          "name": "stdout"
        }
      ]
    },
    {
      "cell_type": "markdown",
      "metadata": {
        "id": "GcCsvVndBrnQ"
      },
      "source": [
        "## **Github code provided on dataset person's page**\n",
        "\n",
        "Link to search_first_name & search_last_name, which came with data\n",
        "\n",
        "https://github.com/philipperemy/name-dataset/blob/a5852a15dd0ce05d7d78ee63b5d2cc98aefac421/names_dataset/query.py#L22\n",
        "\n",
        "********************************************************************"
      ]
    },
    {
      "cell_type": "code",
      "metadata": {
        "id": "cvK5MA6d3iTo",
        "outputId": "5da1a3fe-30f1-4e81-e127-e505a1af692f",
        "colab": {
          "base_uri": "https://localhost:8080/"
        }
      },
      "source": [
        "# example from the github with data \n",
        "\n",
        "# search_first_name & search_last_name can handle strings when considering upper & lower case\n",
        "\n",
        "from names_dataset import NameDataset\n",
        "m = NameDataset()\n",
        "print(m.search_first_name('Mikael'))\n",
        "print(m.search_first_name('mikael'))\n",
        "print(m.search_first_name('MIKAEL'))\n",
        "print(\"\")\n",
        "print(m.search_last_name('Remy'))\n",
        "print(m.search_last_name('remy'))\n",
        "print(m.search_last_name('REMY'))"
      ],
      "execution_count": 43,
      "outputs": [
        {
          "output_type": "stream",
          "text": [
            "True\n",
            "True\n",
            "True\n",
            "\n",
            "True\n",
            "True\n",
            "True\n"
          ],
          "name": "stdout"
        }
      ]
    },
    {
      "cell_type": "markdown",
      "metadata": {
        "id": "DIFhnjoODPYu"
      },
      "source": [
        "### **Part C**"
      ]
    },
    {
      "cell_type": "code",
      "metadata": {
        "id": "u7hJ3p8y-Bfp",
        "outputId": "35fcb585-e181-4ee1-95e2-9ff486b69717",
        "colab": {
          "base_uri": "https://localhost:8080/"
        }
      },
      "source": [
        "# function to check first & last name \n",
        "def name_check(first,last):\n",
        "  m = NameDataset()\n",
        "  if type(first) == str and type(last) == str:\n",
        "    print(m.search_first_name(first))\n",
        "    print(m.search_last_name(last))\n",
        "  else: \n",
        "    print(\"Please insert a string in the format: 'first name', 'last name\")\n",
        "\n",
        "# test for Cathaoir Agnew\n",
        "name_check('Cathaoir','Agnew')"
      ],
      "execution_count": 44,
      "outputs": [
        {
          "output_type": "stream",
          "text": [
            "True\n",
            "True\n"
          ],
          "name": "stdout"
        }
      ]
    },
    {
      "cell_type": "markdown",
      "metadata": {
        "id": "c2VyiAZ-EJe4"
      },
      "source": [
        "### **Part D**"
      ]
    },
    {
      "cell_type": "code",
      "metadata": {
        "id": "YPlDfOm-EKMe",
        "outputId": "e4fd485c-5042-4b20-f91e-43018bc21dad",
        "colab": {
          "base_uri": "https://localhost:8080/"
        }
      },
      "source": [
        "import jellyfish\n",
        "\n",
        "# soundex can handle strings when considering upper & lower case\n",
        "\n",
        "def name_soundex(first,last):\n",
        "  if type(first) == str and type(last) == str:\n",
        "    print(jellyfish.soundex(first))\n",
        "    print(jellyfish.soundex(last))\n",
        "  else: \n",
        "    print(\"Please insert a string in the format: 'first name' , 'last name' \")\n",
        "\n",
        "name_soundex('Cathaoir', 'Agnew')\n",
        "print(\"\")\n",
        "name_soundex('cathaoir', 'AGNEW')\n",
        "\n"
      ],
      "execution_count": 45,
      "outputs": [
        {
          "output_type": "stream",
          "text": [
            "C360\n",
            "A250\n",
            "\n",
            "C360\n",
            "A250\n"
          ],
          "name": "stdout"
        }
      ]
    },
    {
      "cell_type": "markdown",
      "metadata": {
        "id": "FYk_u8ikGMzb"
      },
      "source": [
        "### **Part E**"
      ]
    },
    {
      "cell_type": "markdown",
      "metadata": {
        "id": "PvmnAQgkcIwC"
      },
      "source": [
        "Going to make it easier for the search, will only calculate the codes if they begin with the starting letter of the input name. As soundex does not remove the first letter, and the letter in the soundex code is genereated from the first letter in the string (ie the input name for this example) "
      ]
    },
    {
      "cell_type": "code",
      "metadata": {
        "id": "Uhtt-noAXKQb",
        "outputId": "20b03e90-077f-4e56-920d-feeb7acc3b86",
        "colab": {
          "base_uri": "https://localhost:8080/"
        }
      },
      "source": [
        "import pandas as pd\n",
        "\n",
        "def name_sound_matches(input_name):\n",
        "\n",
        "  # calculate the soundex code for original input name\n",
        "  input_soundex_code = jellyfish.soundex(input_name)\n",
        "\n",
        "  for i in m.first_names:\n",
        "    # first try block to make sure valid characters for soundex are considered \n",
        "    try:\n",
        "\n",
        "      # want to first match on first letter of each string, as this is how soundex code is created\n",
        "      # stops calculating soundex of all names, just for efficieny, also soundex only allows english alphabeat characters\n",
        "      # no need to calculate strings that do not start with matching first strings, because of the way soundex works \n",
        "\n",
        "      if i[0] == input_name[0].lower():\n",
        "        if jellyfish.soundex(i) == input_soundex_code:\n",
        "          print(i , jellyfish.soundex(i))  \n",
        "      \n",
        "    # passes through any exceptions that may be thrown, ie non english charachers A-Z , a-z \n",
        "    except:\n",
        "      continue\n",
        "\n",
        "# Driver program \n",
        "start2 = time.time()\n",
        "name_sound_matches('Cathaoir')\n",
        "end2 = time.time()\n",
        "print(\"---\" ,end2-start2 ,\"seconds ---\")"
      ],
      "execution_count": 46,
      "outputs": [
        {
          "output_type": "stream",
          "text": [
            "chidera C360\n",
            "cater C360\n",
            "catera C360\n",
            "chitara C360\n",
            "chitro C360\n",
            "catara C360\n",
            "chaithra C360\n",
            "catoria C360\n",
            "codera C360\n",
            "codrey C360\n",
            "cedra C360\n",
            "chaudhary C360\n",
            "cidera C360\n",
            "coder C360\n",
            "cutter C360\n",
            "chaitra C360\n",
            "cedria C360\n",
            "couture C360\n",
            "cathaoir C360\n",
            "chitra C360\n",
            "cathair C360\n",
            "cedri C360\n",
            "cattier C360\n",
            "cedrie C360\n",
            "chuhdary C360\n",
            "chatara C360\n",
            "cody-ray C360\n",
            "cederia C360\n",
            "catori C360\n",
            "choudhary C360\n",
            "caterra C360\n",
            "choudary C360\n",
            "cetera C360\n",
            "choudhury C360\n",
            "cowdry C360\n",
            "cather C360\n",
            "chowdhury C360\n",
            "cheetara C360\n",
            "chaudhry C360\n",
            "cedrea C360\n",
            "chetara C360\n",
            "chaudry C360\n",
            "cotter C360\n",
            "cateria C360\n",
            "chader C360\n",
            "coudrey C360\n",
            "codero C360\n",
            "cedor C360\n",
            "choudhry C360\n",
            "coderro C360\n",
            "catria C360\n",
            "catiria C360\n",
            "caitria C360\n",
            "citori C360\n",
            "--- 0.06376218795776367 seconds ---\n"
          ],
          "name": "stdout"
        }
      ]
    },
    {
      "cell_type": "code",
      "metadata": {
        "id": "8VfOrdRPd0oF",
        "outputId": "3af511f7-be9f-44b4-aeac-30e927abef4a",
        "colab": {
          "base_uri": "https://localhost:8080/"
        }
      },
      "source": [
        "# few test cases\n",
        "print(jellyfish.soundex('choudhry'))\n",
        "print(jellyfish.soundex('chatara'))\n",
        "print(jellyfish.soundex('cedor'))\n",
        "print(jellyfish.soundex('citori'))\n",
        "print(jellyfish.soundex('catria'))\n",
        "print(jellyfish.soundex('cutter'))"
      ],
      "execution_count": 47,
      "outputs": [
        {
          "output_type": "stream",
          "text": [
            "C360\n",
            "C360\n",
            "C360\n",
            "C360\n",
            "C360\n",
            "C360\n"
          ],
          "name": "stdout"
        }
      ]
    },
    {
      "cell_type": "markdown",
      "metadata": {
        "id": "X-y52G3NeIQL"
      },
      "source": [
        "### **Part F**\n",
        "A quick look at the docs shows the built in LD calculator has a transformation/subsitution cost of 1 and not 2 like  in our previous questions:\n",
        "\n",
        "![image.png](data:image/png;base64,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)"
      ]
    },
    {
      "cell_type": "code",
      "metadata": {
        "id": "-1ovhT4OeI7z",
        "outputId": "162920ea-a701-4ea1-837c-50a0f060cc4d",
        "colab": {
          "base_uri": "https://localhost:8080/"
        }
      },
      "source": [
        "# need to make all letters lower case\n",
        "\n",
        "def name_LD(first, last):\n",
        "  if type(first) == str and type(last) == str:\n",
        "    distance = jellyfish.levenshtein_distance(first.lower(), last.lower())\n",
        "    print(distance)\n",
        "  else: \n",
        "    print(\"Please insert a string in the format: 'first name' , 'last name' \")\n",
        "\n",
        "name_LD('Cathaoir', 'agnew')\n",
        "print(\"\")\n",
        "name_LD('cathaoir', 'AGNEW')"
      ],
      "execution_count": 48,
      "outputs": [
        {
          "output_type": "stream",
          "text": [
            "7\n",
            "\n",
            "7\n"
          ],
          "name": "stdout"
        }
      ]
    },
    {
      "cell_type": "code",
      "metadata": {
        "id": "jpjsc4KYN56P",
        "outputId": "a6ebf2ad-595c-45bd-aa8a-8e31db03188b",
        "colab": {
          "base_uri": "https://localhost:8080/"
        }
      },
      "source": [
        "print(jellyfish.levenshtein_distance('berne', 'born'))\n",
        "print(\"\")\n",
        "name_LD('berne', 'born')"
      ],
      "execution_count": 49,
      "outputs": [
        {
          "output_type": "stream",
          "text": [
            "2\n",
            "\n",
            "2\n"
          ],
          "name": "stdout"
        }
      ]
    }
  ]
}