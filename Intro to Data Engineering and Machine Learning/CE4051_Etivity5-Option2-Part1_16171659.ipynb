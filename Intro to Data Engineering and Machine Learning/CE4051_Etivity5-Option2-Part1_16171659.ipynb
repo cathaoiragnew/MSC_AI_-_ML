{
 "cells": [
  {
   "cell_type": "markdown",
   "metadata": {},
   "source": [
    "### Student Details\n",
    "\n",
    "Student name: Cathaoir Agnew\n",
    "\n",
    "Student ID: 16171659"
   ]
  },
  {
   "cell_type": "markdown",
   "metadata": {},
   "source": [
    "# Option 2: Linear and non-linear SVM"
   ]
  },
  {
   "cell_type": "markdown",
   "metadata": {},
   "source": [
    "## Part 1: Multi-class Linear SVM\n",
    "\n",
    "1. Load all of the samples from the Iris dataset, that is iris-setosa, iris-versicolor and iris-virginica. Load the petal length and petal width as the features. Assign the class labels \n",
    "    1. Iris-setosa = 0\n",
    "    2. Iris-versicolor = 1\n",
    "    3. Iris-virginica = 2\n",
    "2. Use the scikit-learn train_test_split function to split into 30% test and 70% training data\n",
    "    1. Set the stratify parameter to y. The stratify option will make sure that you get the same split of data as is in the original dataset. I.e. you will get 33% of each of the Iris types in your training and test data.\n",
    "3. Use the scikit-learn StandardScaler function to apply standard scaling to both training and test data\n",
    "    1. Print the scaled data\n",
    "4. Train an instance of the scikitlearn sklearn.svm SVC (Support Vector Classifier) algorithm on the provided data\n",
    "    1. You can use all the default parameters, except set the kernel to linear\n",
    "5. Plot the decision boundary using the supplied plot_decision_boundary function\n",
    "6. Using sklearn's accuracy_score, calculate the accuracy score on the test data"
   ]
  },
  {
   "cell_type": "markdown",
   "metadata": {},
   "source": [
    "### Part 1 Task 1 \n",
    "Load all of the samples from the Iris dataset, that is iris-setosa, iris-versicolor and iris-virginica. Load the petal length and petal width as the features. Assign the class labels \n",
    "\n",
    "    Iris-setosa = 0 \n",
    "    Iris-versicolor = 1 \n",
    "    Iris-virginica = 2 \n"
   ]
  },
  {
   "cell_type": "code",
   "execution_count": 1,
   "metadata": {},
   "outputs": [],
   "source": [
    "# loading data in \n",
    "\n",
    "import pandas as pd\n",
    "df = pd.read_csv('iris_data.csv', header=0)"
   ]
  },
  {
   "cell_type": "code",
   "execution_count": 2,
   "metadata": {},
   "outputs": [
    {
     "name": "stdout",
     "output_type": "stream",
     "text": [
      "   sepal_length   sepa_width   petal_length   petal_width        class\n",
      "0           5.1          3.5            1.4           0.2  Iris-setosa\n",
      "1           4.9          3.0            1.4           0.2  Iris-setosa\n",
      "2           4.7          3.2            1.3           0.2  Iris-setosa\n",
      "3           4.6          3.1            1.5           0.2  Iris-setosa\n",
      "4           5.0          3.6            1.4           0.2  Iris-setosa\n"
     ]
    }
   ],
   "source": [
    "# quick glance at data\n",
    "print(df.head())"
   ]
  },
  {
   "cell_type": "code",
   "execution_count": 3,
   "metadata": {},
   "outputs": [
    {
     "name": "stdout",
     "output_type": "stream",
     "text": [
      "Index(['sepal_length', ' sepa_width', ' petal_length', ' petal_width',\n",
      "       ' class'],\n",
      "      dtype='object')\n"
     ]
    }
   ],
   "source": [
    "# quick glance at columns\n",
    "print(df.columns)"
   ]
  },
  {
   "cell_type": "code",
   "execution_count": 4,
   "metadata": {},
   "outputs": [
    {
     "name": "stdout",
     "output_type": "stream",
     "text": [
      "['Iris-setosa' 'Iris-versicolor' 'Iris-virginica']\n"
     ]
    }
   ],
   "source": [
    "# unique values in the class column\n",
    "print(df.iloc[:,4].unique())"
   ]
  },
  {
   "cell_type": "markdown",
   "metadata": {},
   "source": [
    "Website of where I found useful information on how to recode variables/ label encode. \n",
    "\n",
    "https://pbpython.com/categorical-encoding.html\n",
    "\n",
    "As the labels in the data set appear in order, setosa 1st , versicolour 2nd , virginica 3rd. This cat codes works fine without any tweaking, as the order of the classes that appear,  match up with how cat code will relabel them.\n",
    "\n",
    "    Iris-setosa = 0 \n",
    "    Iris-versicolor = 1 \n",
    "    Iris-virginica = 2 "
   ]
  },
  {
   "cell_type": "code",
   "execution_count": 5,
   "metadata": {},
   "outputs": [],
   "source": [
    "# turning column into type category & then using cat-codes to convert to numbers, from above link \n",
    "df[\" class\"] = df[\" class\"].astype('category')\n",
    "\n",
    "# creating a new column, just so I dont overwrite and lose the info\n",
    "df[\"class_cat\"] = df[\" class\"].cat.codes\n",
    "\n",
    "\n",
    "# petal length and petal width\n",
    "X = df.iloc[:, [2,3]].values\n",
    "\n",
    "# now since we taking all flower types and not specific below makes more sense to use \n",
    "y = df['class_cat'].values\n",
    "\n",
    "# rather than below, as above is more readible, but both work \n",
    "#Y = df.iloc[:, 5]"
   ]
  },
  {
   "cell_type": "markdown",
   "metadata": {},
   "source": [
    "### Part 1 task 2 \n",
    "\n",
    "Use the scikit-learn train_test_split function to split into 30% test and 70% training data.\n",
    "\n",
    "Set the stratify parameter to y. The stratify option will make sure that you get the same split of data as is in the original dataset. I.e. you will get 33% of each of the Iris types in your training and test data. "
   ]
  },
  {
   "cell_type": "code",
   "execution_count": 6,
   "metadata": {},
   "outputs": [],
   "source": [
    "from sklearn.model_selection import train_test_split\n",
    "\n",
    "# set random_state to a fixed number, so while the outcome is random, it is repeatible (same result each time)\n",
    "X_train, X_test, y_train, y_test = train_test_split(X, y, test_size=0.30, random_state=43 , stratify = y ) "
   ]
  },
  {
   "cell_type": "markdown",
   "metadata": {},
   "source": [
    "### Part 1 task 3\n",
    "\n",
    "Use the scikit-learn StandardScaler function to apply standard scaling to both training and test data  \n",
    "\n",
    "Print the scaled data "
   ]
  },
  {
   "cell_type": "code",
   "execution_count": 7,
   "metadata": {},
   "outputs": [
    {
     "name": "stdout",
     "output_type": "stream",
     "text": [
      "[[-1.35170127 -1.17851345]\n",
      " [-1.1786879  -1.17851345]\n",
      " [ 0.43610354  0.39951731]\n",
      " [ 0.55144578  0.26801475]\n",
      " [ 0.78213027  1.45153782]\n",
      " [-1.1786879  -1.31001601]\n",
      " [-1.35170127 -1.31001601]\n",
      " [ 0.43610354  0.13651218]\n",
      " [-1.46704351 -1.31001601]\n",
      " [ 0.26309017  0.13651218]\n",
      " [ 1.18582813  1.32003525]\n",
      " [ 1.3588415   1.45153782]\n",
      " [-1.58238576 -1.31001601]\n",
      " [ 0.55144578  0.26801475]\n",
      " [ 0.0900768  -0.12649294]\n",
      " [ 0.66678803  0.39951731]\n",
      " [-0.4289633  -0.12649294]\n",
      " [ 1.12815701  1.71454294]\n",
      " [ 0.0900768   0.26801475]\n",
      " [ 0.03240568 -0.12649294]\n",
      " [ 0.60911691  0.26801475]\n",
      " [ 0.37843242  0.00500962]\n",
      " [-1.35170127 -1.31001601]\n",
      " [-1.35170127 -1.31001601]\n",
      " [ 1.70486824  1.32003525]\n",
      " [ 1.07048589  0.794025  ]\n",
      " [ 0.26309017  0.39951731]\n",
      " [ 0.20541905 -0.2579955 ]\n",
      " [ 0.0900768   0.00500962]\n",
      " [ 0.20541905  0.13651218]\n",
      " [-1.40937239 -1.31001601]\n",
      " [-1.29403015 -1.31001601]\n",
      " [ 1.12815701  1.45153782]\n",
      " [ 0.72445915  0.92552756]\n",
      " [-1.52471464 -1.44151857]\n",
      " [-1.29403015 -1.17851345]\n",
      " [-1.29403015 -1.44151857]\n",
      " [ 0.8398014   1.45153782]\n",
      " [ 0.26309017  0.00500962]\n",
      " [-0.14060769 -0.2579955 ]\n",
      " [ 0.32076129  0.13651218]\n",
      " [-1.35170127 -1.31001601]\n",
      " [ 0.14774792 -0.2579955 ]\n",
      " [-1.29403015 -1.31001601]\n",
      " [ 1.53185487  1.05703013]\n",
      " [ 1.01281477  0.794025  ]\n",
      " [-1.35170127 -1.17851345]\n",
      " [ 0.72445915  0.66252244]\n",
      " [-1.1786879  -1.04701088]\n",
      " [ 0.72445915  0.39951731]\n",
      " [ 0.78213027  1.58304038]\n",
      " [-0.14060769 -0.2579955 ]\n",
      " [-1.23635902 -1.31001601]\n",
      " [ 1.3588415   0.92552756]\n",
      " [ 0.37843242  0.26801475]\n",
      " [ 0.60911691  0.794025  ]\n",
      " [ 0.89747252  0.92552756]\n",
      " [-1.40937239 -1.17851345]\n",
      " [-1.35170127 -1.31001601]\n",
      " [-1.29403015 -1.44151857]\n",
      " [ 1.07048589  1.32003525]\n",
      " [ 0.78213027  0.53101987]\n",
      " [ 0.78213027  0.92552756]\n",
      " [ 0.37843242  0.13651218]\n",
      " [ 0.14774792  0.13651218]\n",
      " [ 0.37843242  0.26801475]\n",
      " [ 0.95514364  1.45153782]\n",
      " [ 0.66678803  0.39951731]\n",
      " [ 1.07048589  0.26801475]\n",
      " [ 0.78213027  0.794025  ]\n",
      " [ 1.24349926  1.18853269]\n",
      " [-1.23635902 -1.04701088]\n",
      " [ 0.49377466  0.13651218]\n",
      " [-1.06334565 -1.31001601]\n",
      " [ 1.24349926  1.45153782]\n",
      " [-1.29403015 -1.44151857]\n",
      " [ 1.18582813  0.53101987]\n",
      " [ 0.78213027  1.05703013]\n",
      " [ 0.60911691  0.794025  ]\n",
      " [ 0.89747252  1.45153782]\n",
      " [-1.23635902 -0.78400576]\n",
      " [ 0.95514364  1.18853269]\n",
      " [-1.29403015 -1.04701088]\n",
      " [ 1.01281477  1.18853269]\n",
      " [ 1.01281477  0.794025  ]\n",
      " [ 0.43610354  0.39951731]\n",
      " [-1.40937239 -1.17851345]\n",
      " [ 0.20541905  0.13651218]\n",
      " [-1.06334565 -1.04701088]\n",
      " [-1.40937239 -1.31001601]\n",
      " [-1.40937239 -1.31001601]\n",
      " [-1.29403015 -1.04701088]\n",
      " [ 1.30117038  1.71454294]\n",
      " [-1.23635902 -1.31001601]\n",
      " [-1.29403015 -1.31001601]\n",
      " [-0.25594994 -0.2579955 ]\n",
      " [ 0.49377466  0.39951731]\n",
      " [ 1.47418375  0.794025  ]\n",
      " [-1.35170127 -1.44151857]\n",
      " [ 0.8398014   1.05703013]\n",
      " [ 0.43610354  0.39951731]\n",
      " [ 0.60911691  0.794025  ]\n",
      " [ 0.43610354  0.66252244]\n",
      " [-1.29403015 -1.31001601]\n",
      " [ 0.72445915  1.05703013]]\n"
     ]
    }
   ],
   "source": [
    "from sklearn.preprocessing import StandardScaler\n",
    "\n",
    "scaler = StandardScaler()\n",
    "\n",
    "# You fit standard scaler on training data, but apply to both train & test\n",
    "\n",
    "# fitting and transforming training data\n",
    "X_train_scale = scaler.fit_transform(X_train)\n",
    "\n",
    "# only transform here, as fit on training data\n",
    "X_test_scale = scaler.transform(X_test)\n",
    "\n",
    "# print scaled x train\n",
    "print(X_train_scale)"
   ]
  },
  {
   "cell_type": "code",
   "execution_count": 8,
   "metadata": {},
   "outputs": [
    {
     "name": "stdout",
     "output_type": "stream",
     "text": [
      "[[-1.29403015 -1.04701088]\n",
      " [ 0.66678803  0.794025  ]\n",
      " [ 0.55144578  0.53101987]\n",
      " [ 0.49377466  0.26801475]\n",
      " [ 1.18582813  0.794025  ]\n",
      " [-0.02526544 -0.2579955 ]\n",
      " [ 0.55144578  0.00500962]\n",
      " [ 1.30117038  0.794025  ]\n",
      " [-1.35170127 -1.31001601]\n",
      " [ 0.14774792  0.13651218]\n",
      " [-1.1786879  -0.91550832]\n",
      " [-0.25594994 -0.2579955 ]\n",
      " [-1.46704351 -1.31001601]\n",
      " [-1.29403015 -1.44151857]\n",
      " [ 0.78213027  0.39951731]\n",
      " [ 0.66678803  0.794025  ]\n",
      " [ 1.3588415   1.71454294]\n",
      " [-0.08293657  0.13651218]\n",
      " [-1.23635902 -1.31001601]\n",
      " [ 1.82021049  1.45153782]\n",
      " [-1.35170127 -1.31001601]\n",
      " [ 1.07048589  1.58304038]\n",
      " [ 0.14774792  0.00500962]\n",
      " [ 0.32076129  0.13651218]\n",
      " [ 0.43610354  0.39951731]\n",
      " [-1.23635902 -1.31001601]\n",
      " [ 0.78213027  0.92552756]\n",
      " [ 0.43610354  0.53101987]\n",
      " [-1.35170127 -1.31001601]\n",
      " [ 0.14774792  0.13651218]\n",
      " [ 0.26309017  0.13651218]\n",
      " [ 1.07048589  1.58304038]\n",
      " [-1.40937239 -1.04701088]\n",
      " [ 1.70486824  1.05703013]\n",
      " [ 1.64719712  1.18853269]\n",
      " [ 1.12815701  1.18853269]\n",
      " [-1.29403015 -1.31001601]\n",
      " [ 0.55144578  0.39951731]\n",
      " [-1.40937239 -1.31001601]\n",
      " [-1.29403015 -1.31001601]\n",
      " [ 0.43610354  0.39951731]\n",
      " [-1.23635902 -1.31001601]\n",
      " [-1.35170127 -1.17851345]\n",
      " [ 1.07048589  1.18853269]\n",
      " [ 0.66678803  1.05703013]]\n"
     ]
    }
   ],
   "source": [
    "# print scaled x test\n",
    "print(X_test_scale)"
   ]
  },
  {
   "cell_type": "markdown",
   "metadata": {},
   "source": [
    "### Part 1 task 4\n",
    "\n",
    "Train an instance of the scikitlearn sklearn.svm SVC (Support Vector Classifier) algorithm on the provided data.\n",
    "\n",
    "You can use all the default parameters, except set the kernel to linear "
   ]
  },
  {
   "cell_type": "code",
   "execution_count": 9,
   "metadata": {},
   "outputs": [
    {
     "data": {
      "text/plain": [
       "SVC(kernel='linear')"
      ]
     },
     "execution_count": 9,
     "metadata": {},
     "output_type": "execute_result"
    }
   ],
   "source": [
    "from sklearn.svm import SVC\n",
    "\n",
    "# initialize SVM classifier \n",
    "svm_clf = SVC(kernel = 'linear') \n",
    "\n",
    "# train classifier \n",
    "svm_clf.fit(X_train_scale, y_train)"
   ]
  },
  {
   "cell_type": "markdown",
   "metadata": {},
   "source": [
    "### Part 1 task 5\n",
    "\n",
    "Plot the decision boundary using the supplied plot_decision_boundary function "
   ]
  },
  {
   "cell_type": "markdown",
   "metadata": {},
   "source": [
    "Provided by Ciaran on GitLab"
   ]
  },
  {
   "cell_type": "code",
   "execution_count": 10,
   "metadata": {},
   "outputs": [],
   "source": [
    "# From https://jonchar.net/notebooks/Artificial-Neural-Network-with-Keras/\n",
    "\n",
    "import matplotlib.pyplot as plt\n",
    "import numpy as np\n",
    "\n",
    "def plot_decision_boundary(X, y, model, steps=1000, cmap='Paired'):\n",
    "    \"\"\"\n",
    "    Function to plot the decision boundary and data points of a model.\n",
    "    Data points are colored based on their actual label.\n",
    "    \"\"\"\n",
    "    cmap = plt.get_cmap(cmap)\n",
    "    \n",
    "    # Define region of interest by data limits\n",
    "    xmin, xmax = X[:,0].min() - 1, X[:,0].max() + 1\n",
    "    ymin, ymax = X[:,1].min() - 1, X[:,1].max() + 1\n",
    "    steps = 1000\n",
    "    x_span = np.linspace(xmin, xmax, steps)\n",
    "    y_span = np.linspace(ymin, ymax, steps)\n",
    "    xx, yy = np.meshgrid(x_span, y_span)\n",
    "\n",
    "    # Make predictions across region of interest\n",
    "    labels = model.predict(np.c_[xx.ravel(), yy.ravel()])\n",
    "\n",
    "    # Plot decision boundary in region of interest\n",
    "    z = labels.reshape(xx.shape)\n",
    "    \n",
    "    fig, ax = plt.subplots()\n",
    "    ax.contourf(xx, yy, z, cmap=cmap, alpha=0.5)\n",
    "\n",
    "    # Get predicted labels on training data and plot\n",
    "    ax.scatter(X[:,0], X[:,1], c=y, cmap=cmap, lw=0)\n",
    "    ax.set_title(\"Decision Boundary Plot\")\n",
    "    \n",
    "    return fig, ax\n"
   ]
  },
  {
   "cell_type": "markdown",
   "metadata": {},
   "source": [
    "Taking on Peter Gleeson's advice on my forum post, of adding labels on my plots. As I stored X as petal length , petal width, to keep consistency \n",
    "\n",
    "x1 = petal length (this will be x-axis) ,  x2 = petal width (this will be y-axis) "
   ]
  },
  {
   "cell_type": "code",
   "execution_count": 11,
   "metadata": {},
   "outputs": [
    {
     "data": {
      "image/png": "[encoded data removed]",
      "text/plain": [
       "<Figure size 432x288 with 1 Axes>"
      ]
     },
     "metadata": {
      "needs_background": "light"
     },
     "output_type": "display_data"
    }
   ],
   "source": [
    "plot_decision_boundary(X_train_scale, y_train, svm_clf, steps=1000, cmap='Paired')\n",
    "plt.title(\"Decision Boundary of SVM Classifier\")\n",
    "plt.xlabel('Petal Length scaled')\n",
    "plt.ylabel('Petal Width scaled')\n",
    "plt.show()"
   ]
  },
  {
   "cell_type": "code",
   "execution_count": 12,
   "metadata": {},
   "outputs": [
    {
     "data": {
      "image/png": "[encoded data removed]",
      "text/plain": [
       "<Figure size 432x288 with 1 Axes>"
      ]
     },
     "metadata": {
      "needs_background": "light"
     },
     "output_type": "display_data"
    }
   ],
   "source": [
    "plot_decision_boundary(X_test_scale, y_test, svm_clf, steps=1000, cmap='Paired')\n",
    "plt.title(\"Decision Boundary of SVM Classifier, with test data to see misclassifications\")\n",
    "plt.xlabel('Petal Length scaled')\n",
    "plt.ylabel('Petal Width scaled')\n",
    "plt.show()"
   ]
  },
  {
   "cell_type": "markdown",
   "metadata": {},
   "source": [
    "### Part 1 Task 6\n",
    "\n",
    "Using sklearn's accuracy_score, calculate the accuracy score on the test data "
   ]
  },
  {
   "cell_type": "code",
   "execution_count": 13,
   "metadata": {},
   "outputs": [
    {
     "name": "stdout",
     "output_type": "stream",
     "text": [
      "SVM Classifier accuracy (in %): 97.77777777777777\n"
     ]
    }
   ],
   "source": [
    "from sklearn.metrics import accuracy_score\n",
    "\n",
    "y_pred = svm_clf.predict(X_test_scale)\n",
    "\n",
    "# Printing out the accuracy score on the X test \n",
    "print(\"SVM Classifier accuracy (in %):\", accuracy_score(y_test , y_pred)*100)"
   ]
  }
 ],
 "metadata": {
  "kernelspec": {
   "display_name": "Python 3",
   "language": "python",
   "name": "python3"
  },
  "language_info": {
   "codemirror_mode": {
    "name": "ipython",
    "version": 3
   },
   "file_extension": ".py",
   "mimetype": "text/x-python",
   "name": "python",
   "nbconvert_exporter": "python",
   "pygments_lexer": "ipython3",
   "version": "3.8.3"
  }
 },
 "nbformat": 4,
 "nbformat_minor": 2
}
