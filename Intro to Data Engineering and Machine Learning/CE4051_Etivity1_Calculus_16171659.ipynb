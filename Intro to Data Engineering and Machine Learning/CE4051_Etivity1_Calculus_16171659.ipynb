{
 "cells": [
  {
   "cell_type": "markdown",
   "metadata": {},
   "source": [
    "### Your details"
   ]
  },
  {
   "cell_type": "markdown",
   "metadata": {},
   "source": [
    "Your Name: Cathaoir Agnew"
   ]
  },
  {
   "cell_type": "markdown",
   "metadata": {},
   "source": [
    "Your ID number: 16171659"
   ]
  },
  {
   "cell_type": "markdown",
   "metadata": {},
   "source": [
    "# Task 1\n",
    "\n",
    "## Option ? (which option did you pick?)\n",
    "\n",
    "Option 1: Symbolic calculation of the derivative and plotting\n",
    "\n",
    "Write two Python functions to: \n",
    "\n",
    "    Symbolically calculate the derivative of a polynomial with one variable. \n",
    "\n",
    "    Evaluate (i.e. get the numerical value) of a polynomial for a given value of its variable. \n",
    "\n",
    "Then: \n",
    "\n",
    "    Test your code with a few salient polynomials (minimum of 3) for which you have calculated the derivative of these polynomials manually. \n",
    "\n",
    "    Convince yourself that f'(x) ~= (f(x + h) - f(x)) / h for small values of h and a given value of x. Observe that it gets closer to the true value the smaller you make h.\n",
    "\n",
    "Then: \n",
    "\n",
    "    Plot the polynomial and its derivative over an arbitrary domain using matplotlib \n"
   ]
  },
  {
   "cell_type": "markdown",
   "metadata": {},
   "source": [
    "## Approach\n",
    "\n",
    "Used pairs of python lists to hold coefficients and powers seperately. I wrote functions that firstly check that the python list for coefficient(s) has at least 1 entry, and that the python list of the coefficient(s) match the length of the python list of power(s). Followed rules of maths for the differentiation function code:  x^n = n * x^ n-1  and followed the rules of maths for eval_poly function code. Tried a couple of test cases for each function. \n",
    "\n",
    "I created functions for calculating/approximating the derivitive from first principals, and then used this to create a function that evaluates for a given value of x, the value of the first principals function. This function calculates the derivitve for a single value of x, but ranges over the value of h, the step of which we move. As h (the step) gets smaller , the function better approxs to the true value of the differentiation \n",
    "\n",
    "Finally for graphing the f(x) and f'(x) I used the previous functions created to bring it all together and plot the graphs with matplotlib.pyplot."
   ]
  },
  {
   "cell_type": "markdown",
   "metadata": {},
   "source": [
    "## Manual Calculations\n",
    "\n",
    "### Derivates Checks \n",
    "\n",
    "f(x) = 1x^6\n",
    "\n",
    "f'(x) = 6x^5\n",
    "\n",
    "\n",
    "\n",
    "f(x) = 1x^6 + 2x^7\n",
    "\n",
    "f'(x) = 6x^5 + 14x^6\n",
    "\n",
    "\n",
    "\n",
    "f(x) = -1x^6 + 2x^-7\n",
    "\n",
    "f'(x) = -6x^5 + -14x^-8\n",
    "\n",
    "\n",
    "\n",
    "f(x) = 0x^6 + 2x^0\n",
    "\n",
    "f'(x) = 0\n",
    "\n",
    "\n",
    "\n",
    "f(x) = 1x^6 + 2x^7 + 3x^5\n",
    "\n",
    "f'(x) = 6x^5 + 14x^6 + 15x^4\n",
    "\n",
    "\n",
    "\n",
    "f(x) = -1x^-6 + -2x^-7 + -3x^-5\n",
    "\n",
    "f'(x) = 6x^-7 + 14x^-8 + 15x^-6\n",
    "\n",
    "\n",
    "\n",
    "f(x) = 1x^6 + 0x^7 + 3x^0 + 5x^4\n",
    "\n",
    "f'(x) = 6x^5 + 20x^3\n",
    "\n",
    "\n",
    "### Eval_poly Checks\n",
    "\n",
    "f(x) = 1x^2                @ x = 2  =>  1(2)^2 = 4 \n",
    " \n",
    "f(x) = 2x^1 + 3x^2         @ x = 3  =>  2(3) + 3(9) = 6 + 27 = 33\n",
    "\n",
    "f(x) = -1x^2 + 2x^-3       @ x = 1  =>  -1(1)^2 + 2(1)^3 = -1 + 2 = 1 \n",
    "\n",
    "f(x) = -1x^2 + 2x^-3       @ x = -1 =>  -1(-1)^2 + 2(-1)^3 = -1 + 2(-1)  = -3 \n",
    " \n",
    "f(x) = 0x^6 + 2x^0         @ x = 2  =>  0 + 2 = 2      (Anything to the power of 0 = 1, and multiplying by 0 is always 0)\n",
    "  \n",
    "f(x) = 1x^2 + 2x^2         @ x = 0  =>  1(0) + 2(0) = 0\n",
    "\n",
    "f(x) = 1x^2 + 2x^3 + 3x^4  @ x = 2  =>  1(4) + 2(8) + 3(16) = 4 + 16 + 48 = 68 \n",
    "\n",
    "\n",
    "### First Principles Checks\n",
    "\n",
    "For first principal it would take too long to type out manually all the results: so I will just differentiate the function, and find the real value, and check does my first principles function start to converge on the true value\n",
    "\n",
    "#### First,  f(x) = x^2  => f'(x) = 2(x)      so f'(x)  @ x = 2   => 2(2) = 4 \n",
    "       \n",
    "Running below: we can see its converging to 4:\n",
    "\n",
    "first_principal_eval( [1] , [2] , 2 , 0.01)\n",
    "\n",
    "#### Second, f(x) = x^2 + 2x^2  => f'(x) = 2(x) + 4(x) = 6(x)     so f'(x)  @ x = 5   => 6(5) = 30\n",
    "\n",
    "Running below: we can see its converging on 30:\n",
    "\n",
    "first_principal_eval( [1,2] , [2,2] , 5 , 0.01 )\n",
    "\n",
    "#### Third, f(x) = 3x^1 + 2x^2  => f'(x) = 3 + 4(x)    so f'(x)  @ x = 4   => 3 + 4(4) = 3 + 16 = 19\n",
    "\n",
    "Running below: we can see its converging on 19:\n",
    "\n",
    "first_principal_eval( [3,2] , [1,2] , 4 , 0.005 )\n",
    "\n",
    "\n",
    "### Graphs Checks \n",
    "\n",
    "f(x) = x^2  so f'(x) = 2x   , we can see this is in fact the correct graph as @ x = 2, the lines intersect (reduce range of x on plot to better see this is true, if needed)\n",
    "\n",
    "\n",
    "f(x) = 1x^1 + 2    f'(x) = 1  , we can see this is in fact the correct graph as @ x = 1 , f(x) = 3 and f'(x) =1  (reduce range of x on plot to better see this is true, if needed)\n",
    "\n",
    "f(x) = x + 2x^2      f'(x) = 1 + 4(x) , we can see this is in fact the correct graph as @ x = 0 , f(x) = 0 and f'(x) = 1  (reduce range of x on plot to better see this is true, if needed)\n",
    "\n"
   ]
  },
  {
   "cell_type": "code",
   "execution_count": 1,
   "metadata": {},
   "outputs": [],
   "source": [
    "# Your code"
   ]
  },
  {
   "cell_type": "code",
   "execution_count": 2,
   "metadata": {},
   "outputs": [],
   "source": [
    "# Link:   https://stackoverflow.com/questions/36786722/how-to-display-full-output-in-jupyter-not-only-last-result\n",
    "\n",
    "# making notebook print out all print statements \n",
    "from IPython.core.interactiveshell import InteractiveShell\n",
    "InteractiveShell.ast_node_interactivity = \"all\""
   ]
  },
  {
   "cell_type": "code",
   "execution_count": 3,
   "metadata": {},
   "outputs": [],
   "source": [
    "# function that differentiates a function, and prints both f(x) and f'(x) in a user friendly way\n",
    "\n",
    "def differentiate(coeffs , powers): \n",
    "    \"\"\"Function that differentiates a polynomial. Input parameters are a python list of coeffiecients \n",
    "       and a python list of the coefficients power of x. The lengths of coeffs should match lenth of powers,\n",
    "       if a constant exists, the power of x should be inputed as 0 for the constants coefficient,\n",
    "       as this is mathematical correct\"\"\"\n",
    "    \n",
    "    #initalizing strings for printing out \n",
    "    string_func = \"f(x) = \"\n",
    "    string_diff = \"f'(x) = \"\n",
    "    \n",
    "    #inital string length of string_diff  \n",
    "    int_string = len(string_diff)\n",
    "    \n",
    "    \n",
    "    # making sure there is at least 1 coefficent and power,\n",
    "    # and if length of coefficent does not equal length of power prints out message letting you know  \n",
    "    if len(coeffs) >= 1 and len(coeffs) == len(powers):\n",
    "        \n",
    "        for i in range(len(coeffs)):\n",
    "            \n",
    "            #print out the function to begin with \n",
    "            string_func = string_func + str(coeffs[i]) + \"x^\" + str(powers[i])\n",
    "            \n",
    "            # adding an \"+\" inbetween terms in the function  \n",
    "            if i != (len(coeffs)-1):\n",
    "                    string_func = string_func + \" + \"\n",
    "        \n",
    "            #if any 0 contained in either coeffs or power, it will automatically become 0, so can be ignored  \n",
    "            if coeffs[i] == 0 or powers[i] == 0:\n",
    "                continue\n",
    "            \n",
    "            \n",
    "            # differentiating x**n , would be n * x ** (n-1)\n",
    "            \n",
    "            # calculating the power*coeff to get the new coefficient\n",
    "            new_coeff = (powers[i] * coeffs[i] )\n",
    "            \n",
    "            # updating the string to reflect new power and coeff\n",
    "            string_diff = string_diff + str(new_coeff) + \"x^\" + str(powers[i]-1)\n",
    "            \n",
    "            # adding a \"+\" between terms in function\n",
    "            if i != (len(coeffs)-1):\n",
    "                string_diff = string_diff + \" + \"\n",
    "        \n",
    "        # printing final string of the function f(x)\n",
    "        print(string_func)\n",
    "\n",
    "    # if outcome from differention is zero, it just prints out zero to be more clear \n",
    "    \n",
    "        if len(string_diff) == int_string:\n",
    "            string_diff = string_diff + \"0\"\n",
    "        print(string_diff)\n",
    "        \n",
    "        \n",
    "    else: \n",
    "        print(\"Please input 1 or more values for coefficents & powers \\n and make sure you have the same number of coefficeints as powers. Use power = 0 for constants\")\n",
    "    "
   ]
  },
  {
   "cell_type": "code",
   "execution_count": 4,
   "metadata": {},
   "outputs": [],
   "source": [
    "# function that differentiates a function, and outputs f'(x) in terms of a python list for coefficients and a list for powers\n",
    "def differentiate_number(coeffs , powers): \n",
    "    \"\"\"Function that differentiates a polynomial. Input parameters are a python list of coeffiecients \n",
    "       and a python list of the coefficients power of x. The lengths of coeffs should match lenth of powers,\n",
    "       if a constant exists, the power of x should be inputed as 0 for the constants coefficient,\n",
    "       as this is mathematical correct, the output is a python list of the differentiated function, first list is the coefficients \n",
    "       and the second python list is the powers\"\"\"\n",
    "    \n",
    "    #initialize lists\n",
    "    new_coeff = []\n",
    "    new_power = []\n",
    "    \n",
    "    # making sure there is at least 1 coefficent and power,\n",
    "    # and if length of coefficent does not equal length of power prints out message letting you know  \n",
    "    if len(coeffs) >= 1 and len(coeffs) == len(powers):\n",
    "        \n",
    "        for i in range(len(coeffs)):\n",
    "        \n",
    "            #if any 0 contained in either coeffs or power, it will automatically become 0, so can be ignored\n",
    "            if coeffs[i] == 0 or powers[i] == 0:\n",
    "                continue\n",
    "               \n",
    "           \n",
    "            # differentiating x**n , would be n * x ** (n-1) \n",
    "            \n",
    "            # calculating the power*coeff to get the new coefficient\n",
    "            new_coeff.append(powers[i] * coeffs[i])\n",
    "            \n",
    "            #updating the new power \n",
    "            new_power.append(powers[i]-1)\n",
    "\n",
    "        return new_coeff, new_power\n",
    "    \n",
    "    else: \n",
    "        print(\"Please input 1 or more values for coefficents & powers \\n and make sure you have the same number of coefficeints as powers. Use power = 0 for constants\")\n",
    "    "
   ]
  },
  {
   "cell_type": "code",
   "execution_count": 5,
   "metadata": {},
   "outputs": [
    {
     "name": "stdout",
     "output_type": "stream",
     "text": [
      "f(x) = 1x^6\n",
      "f'(x) = 6x^5\n"
     ]
    }
   ],
   "source": [
    "# single value\n",
    "differentiate([1], [6])"
   ]
  },
  {
   "cell_type": "code",
   "execution_count": 6,
   "metadata": {},
   "outputs": [
    {
     "data": {
      "text/plain": [
       "([6], [5])"
      ]
     },
     "execution_count": 6,
     "metadata": {},
     "output_type": "execute_result"
    }
   ],
   "source": [
    "# single value\n",
    "differentiate_number([1], [6])"
   ]
  },
  {
   "cell_type": "code",
   "execution_count": 7,
   "metadata": {},
   "outputs": [
    {
     "name": "stdout",
     "output_type": "stream",
     "text": [
      "f(x) = 1x^6 + 2x^7\n",
      "f'(x) = 6x^5 + 14x^6\n"
     ]
    }
   ],
   "source": [
    "# more than one \n",
    "differentiate([1,2], [6,7])"
   ]
  },
  {
   "cell_type": "code",
   "execution_count": 8,
   "metadata": {},
   "outputs": [
    {
     "data": {
      "text/plain": [
       "([6, 14], [5, 6])"
      ]
     },
     "execution_count": 8,
     "metadata": {},
     "output_type": "execute_result"
    }
   ],
   "source": [
    "# more than one \n",
    "differentiate_number([1,2], [6,7])"
   ]
  },
  {
   "cell_type": "code",
   "execution_count": 9,
   "metadata": {},
   "outputs": [
    {
     "name": "stdout",
     "output_type": "stream",
     "text": [
      "f(x) = -1x^6 + 2x^-7\n",
      "f'(x) = -6x^5 + -14x^-8\n"
     ]
    }
   ],
   "source": [
    "# postive & negtive\n",
    "differentiate([-1,2], [6,-7])"
   ]
  },
  {
   "cell_type": "code",
   "execution_count": 10,
   "metadata": {},
   "outputs": [
    {
     "data": {
      "text/plain": [
       "([-6, -14], [5, -8])"
      ]
     },
     "execution_count": 10,
     "metadata": {},
     "output_type": "execute_result"
    }
   ],
   "source": [
    "# postive & negtive\n",
    "differentiate_number([-1,2], [6,-7])"
   ]
  },
  {
   "cell_type": "code",
   "execution_count": 11,
   "metadata": {},
   "outputs": [
    {
     "name": "stdout",
     "output_type": "stream",
     "text": [
      "f(x) = 0x^6 + 2x^0\n",
      "f'(x) = 0\n"
     ]
    }
   ],
   "source": [
    "# check of zeros\n",
    "differentiate([0,2], [6,0])"
   ]
  },
  {
   "cell_type": "code",
   "execution_count": 12,
   "metadata": {},
   "outputs": [
    {
     "data": {
      "text/plain": [
       "([], [])"
      ]
     },
     "execution_count": 12,
     "metadata": {},
     "output_type": "execute_result"
    }
   ],
   "source": [
    "# check of zeros\n",
    "differentiate_number([0,2], [6,0])"
   ]
  },
  {
   "cell_type": "code",
   "execution_count": 13,
   "metadata": {},
   "outputs": [
    {
     "name": "stdout",
     "output_type": "stream",
     "text": [
      "f(x) = 1x^6 + 2x^7 + 3x^5\n",
      "f'(x) = 6x^5 + 14x^6 + 15x^4\n"
     ]
    }
   ],
   "source": [
    "# checking muiltple number \n",
    "differentiate([1,2,3], [6,7,5])"
   ]
  },
  {
   "cell_type": "code",
   "execution_count": 14,
   "metadata": {},
   "outputs": [
    {
     "data": {
      "text/plain": [
       "([6, 14, 15], [5, 6, 4])"
      ]
     },
     "execution_count": 14,
     "metadata": {},
     "output_type": "execute_result"
    }
   ],
   "source": [
    "# checking muiltple number \n",
    "differentiate_number([1,2,3], [6,7,5])"
   ]
  },
  {
   "cell_type": "code",
   "execution_count": 15,
   "metadata": {},
   "outputs": [
    {
     "name": "stdout",
     "output_type": "stream",
     "text": [
      "f(x) = -1x^-6 + -2x^-7 + -3x^-5\n",
      "f'(x) = 6x^-7 + 14x^-8 + 15x^-6\n"
     ]
    }
   ],
   "source": [
    "# checking all negatives\n",
    "differentiate([-1,-2,-3], [-6,-7,-5])"
   ]
  },
  {
   "cell_type": "code",
   "execution_count": 16,
   "metadata": {},
   "outputs": [
    {
     "data": {
      "text/plain": [
       "([6, 14, 15], [-7, -8, -6])"
      ]
     },
     "execution_count": 16,
     "metadata": {},
     "output_type": "execute_result"
    }
   ],
   "source": [
    "# checking all negatives\n",
    "differentiate_number([-1,-2,-3], [-6,-7,-5])"
   ]
  },
  {
   "cell_type": "code",
   "execution_count": 17,
   "metadata": {},
   "outputs": [
    {
     "name": "stdout",
     "output_type": "stream",
     "text": [
      "f(x) = 1x^6 + 0x^7 + 3x^0 + 5x^4\n",
      "f'(x) = 6x^5 + 20x^3\n"
     ]
    }
   ],
   "source": [
    "# checking muiltple number \n",
    "differentiate([1,0,3,5], [6,7,0,4])"
   ]
  },
  {
   "cell_type": "code",
   "execution_count": 18,
   "metadata": {},
   "outputs": [
    {
     "data": {
      "text/plain": [
       "([6, 20], [5, 3])"
      ]
     },
     "execution_count": 18,
     "metadata": {},
     "output_type": "execute_result"
    }
   ],
   "source": [
    "# checking muiltple number \n",
    "differentiate_number([1,0,3,5], [6,7,0,4])"
   ]
  },
  {
   "cell_type": "code",
   "execution_count": 19,
   "metadata": {},
   "outputs": [
    {
     "name": "stdout",
     "output_type": "stream",
     "text": [
      "Please input 1 or more values for coefficents & powers \n",
      " and make sure you have the same number of coefficeints as powers. Use power = 0 for constants\n"
     ]
    }
   ],
   "source": [
    "# checking muiltple number \n",
    "differentiate([], [])"
   ]
  },
  {
   "cell_type": "code",
   "execution_count": 20,
   "metadata": {},
   "outputs": [
    {
     "name": "stdout",
     "output_type": "stream",
     "text": [
      "Please input 1 or more values for coefficents & powers \n",
      " and make sure you have the same number of coefficeints as powers. Use power = 0 for constants\n"
     ]
    }
   ],
   "source": [
    "# checking muiltple number \n",
    "differentiate([2], [])"
   ]
  },
  {
   "cell_type": "code",
   "execution_count": 21,
   "metadata": {},
   "outputs": [],
   "source": [
    "## this is nicely formatted string evaluating function  \n",
    "## if power is negative cant take 0 as x value as this would imply dividing by 0 which is undefined \n",
    "\n",
    "def eval_poly(coeffs , powers, val_of_x):\n",
    "    \"\"\"Function that evaluates a polynomial at a given value of x. Input parameters are a python list of coeffiecients,\n",
    "    a python list of the coefficients power of x, and a value of x to be evaluate the polynomial. \n",
    "    The lengths of coeffs should match the lenth of powers, if a constant exists, x should be inputed as 0 for that power,\n",
    "    as this is mathematical correct\"\"\"\n",
    "    \n",
    "    #initalizing strings for printing out \n",
    "    string_func = \"f(x) = \"\n",
    "    string_eval = \"f(\" + str(val_of_x) + \") = \"\n",
    "    \n",
    "    #initializing variables \n",
    "    val_of_function = 0\n",
    "    divide_by_zero = False\n",
    "        \n",
    "    # making sure there is at least 1 coefficent, power and value of x\n",
    "    # and if length of coefficents does not equal length of powers, prints out message letting you know  \n",
    "    if len(coeffs) >= 1 and len(coeffs) == len(powers):\n",
    "        \n",
    "        for i in range(len(coeffs)):\n",
    "            \n",
    "            #print out the function \n",
    "            string_func = string_func + str(coeffs[i]) + \"x^\" + str(powers[i])\n",
    "            \n",
    "            # adding an \"+\" between the terms of the function when printing out \n",
    "            if i != (len(coeffs)-1):\n",
    "                    string_func = string_func + \" + \"\n",
    "            \n",
    "            #if a 0  is contained in coeffs, it will automatically become 0, so can be ignored  \n",
    "            if coeffs[i] == 0:\n",
    "                continue\n",
    "            \n",
    "            # if a power is negative, it is undefined at x = 0\n",
    "            if powers[i] < 0 and val_of_x == 0:\n",
    "                print(\"Function is undefined at 0, as it is trying to divide by zero\")\n",
    "                divide_by_zero = True\n",
    "                \n",
    "            # exiting the for loop for an undefined function when dividing by zero \n",
    "                break    \n",
    "            \n",
    "            #evaluating the value of the function \n",
    "            val_of_function += coeffs[i] * ( val_of_x ** powers[i] )\n",
    "            \n",
    "        # adding the value of the function to the print statement   \n",
    "        string_eval = string_eval + str(val_of_function)\n",
    "        \n",
    "        # prints out the values of the statement as long as divide by zero is not encountered\n",
    "        if divide_by_zero == False:        \n",
    "            print(string_func)\n",
    "            print(string_eval)\n",
    "\n",
    "    else: \n",
    "        print(\"Please input 1 or more values for coefficents & powers \\n and make sure you have the same number of coefficeints as powers. Use power = 0 for constants\")\n",
    "    "
   ]
  },
  {
   "cell_type": "code",
   "execution_count": 22,
   "metadata": {},
   "outputs": [],
   "source": [
    "def eval_poly_number(coeffs , powers, val_of_x):\n",
    "    \"\"\"Function that evaluates a polynomial at a given value of x, but output is just the function value.\n",
    "    Input parameters are a python list of coeffiecients, a python list of the coefficients power of x,\n",
    "    and a value of x to be evaluate the polynomial. The lengths of coeffs should match lenth of powers, if a constant exists,\n",
    "    x should be inputed as 0 for that power, as this is mathematical correct\"\"\"\n",
    "    \n",
    "    #initialize final result variable\n",
    "    val_of_function = 0\n",
    "    \n",
    "    # making sure there is at least 1 coefficent, power and value of x\n",
    "    # and if length of coefficents does not equal length of powers, prints out message letting you know  \n",
    "    if len(coeffs) >= 1 and len(coeffs) == len(powers):\n",
    "        \n",
    "        for i in range(len(coeffs)):\n",
    "            \n",
    "             # if a power is negative, it is undefined at x = 0\n",
    "            \n",
    "            if powers[i] < 0 and val_of_x == 0:\n",
    "                print(\"Function is undefined at 0, as it is trying to divide by zero\")\n",
    "                \n",
    "             # exiting the for loop for an undefined function when dividing by zero \n",
    "                break \n",
    "                \n",
    "            #evaluating the value of the function \n",
    "            val_of_function += coeffs[i] * ( val_of_x ** powers[i] )  \n",
    "       \n",
    "    \n",
    "        return val_of_function  \n",
    "    \n",
    "    else: \n",
    "         print(\"Please input 1 or more values for coefficents & powers \\n and make sure you have the same number of coefficeints as powers. Use power = 0 for constants\")\n",
    "          "
   ]
  },
  {
   "cell_type": "code",
   "execution_count": 23,
   "metadata": {},
   "outputs": [
    {
     "name": "stdout",
     "output_type": "stream",
     "text": [
      "f(x) = 1x^2\n",
      "f(2) = 4\n"
     ]
    }
   ],
   "source": [
    "# single value \n",
    "eval_poly([1],[2], 2)"
   ]
  },
  {
   "cell_type": "code",
   "execution_count": 24,
   "metadata": {},
   "outputs": [
    {
     "data": {
      "text/plain": [
       "4"
      ]
     },
     "execution_count": 24,
     "metadata": {},
     "output_type": "execute_result"
    }
   ],
   "source": [
    "# single value \n",
    "eval_poly_number([1],[2], 2)"
   ]
  },
  {
   "cell_type": "code",
   "execution_count": 25,
   "metadata": {},
   "outputs": [
    {
     "name": "stdout",
     "output_type": "stream",
     "text": [
      "f(x) = 2x^1 + 3x^2\n",
      "f(3) = 33\n"
     ]
    }
   ],
   "source": [
    "# more than one \n",
    "eval_poly([2,3], [1,2], 3)"
   ]
  },
  {
   "cell_type": "code",
   "execution_count": 26,
   "metadata": {},
   "outputs": [
    {
     "data": {
      "text/plain": [
       "33"
      ]
     },
     "execution_count": 26,
     "metadata": {},
     "output_type": "execute_result"
    }
   ],
   "source": [
    "# more than one \n",
    "eval_poly_number([2,3], [1,2], 3)"
   ]
  },
  {
   "cell_type": "code",
   "execution_count": 27,
   "metadata": {},
   "outputs": [
    {
     "name": "stdout",
     "output_type": "stream",
     "text": [
      "f(x) = -1x^2 + 2x^-3\n",
      "f(1) = 1.0\n"
     ]
    }
   ],
   "source": [
    "# postive & negtive\n",
    "eval_poly([-1,2], [2,-3] , 1)"
   ]
  },
  {
   "cell_type": "code",
   "execution_count": 28,
   "metadata": {},
   "outputs": [
    {
     "data": {
      "text/plain": [
       "1.0"
      ]
     },
     "execution_count": 28,
     "metadata": {},
     "output_type": "execute_result"
    }
   ],
   "source": [
    "# postive & negtive\n",
    "eval_poly_number([-1,2], [2,-3] , 1)"
   ]
  },
  {
   "cell_type": "code",
   "execution_count": 29,
   "metadata": {},
   "outputs": [
    {
     "name": "stdout",
     "output_type": "stream",
     "text": [
      "f(x) = -1x^2 + 2x^-3\n",
      "f(-1) = -3.0\n"
     ]
    }
   ],
   "source": [
    "# postive & negtive\n",
    "eval_poly([-1,2], [2,-3] , -1)"
   ]
  },
  {
   "cell_type": "code",
   "execution_count": 30,
   "metadata": {},
   "outputs": [
    {
     "data": {
      "text/plain": [
       "-3.0"
      ]
     },
     "execution_count": 30,
     "metadata": {},
     "output_type": "execute_result"
    }
   ],
   "source": [
    "# postive & negtive\n",
    "eval_poly_number([-1,2], [2,-3] , -1)"
   ]
  },
  {
   "cell_type": "code",
   "execution_count": 31,
   "metadata": {},
   "outputs": [
    {
     "name": "stdout",
     "output_type": "stream",
     "text": [
      "f(x) = 0x^6 + 2x^0\n",
      "f(2) = 2\n"
     ]
    }
   ],
   "source": [
    "# check of zeros\n",
    "eval_poly([0,2], [6,0], 2)"
   ]
  },
  {
   "cell_type": "code",
   "execution_count": 32,
   "metadata": {},
   "outputs": [
    {
     "data": {
      "text/plain": [
       "2"
      ]
     },
     "execution_count": 32,
     "metadata": {},
     "output_type": "execute_result"
    }
   ],
   "source": [
    "# check of zeros\n",
    "eval_poly_number([0,2], [6,0], 2)"
   ]
  },
  {
   "cell_type": "code",
   "execution_count": 33,
   "metadata": {},
   "outputs": [
    {
     "name": "stdout",
     "output_type": "stream",
     "text": [
      "f(x) = 1x^2 + 2x^2\n",
      "f(0) = 0\n"
     ]
    }
   ],
   "source": [
    "# check of zeros\n",
    "eval_poly([1,2], [2,2], 0)"
   ]
  },
  {
   "cell_type": "code",
   "execution_count": 34,
   "metadata": {},
   "outputs": [
    {
     "data": {
      "text/plain": [
       "0"
      ]
     },
     "execution_count": 34,
     "metadata": {},
     "output_type": "execute_result"
    }
   ],
   "source": [
    "# check of zeros\n",
    "eval_poly_number([1,2], [2,2], 0)"
   ]
  },
  {
   "cell_type": "code",
   "execution_count": 35,
   "metadata": {},
   "outputs": [
    {
     "name": "stdout",
     "output_type": "stream",
     "text": [
      "Function is undefined at 0, as it is trying to divide by zero\n"
     ]
    }
   ],
   "source": [
    "# check of zeros\n",
    "eval_poly([1,2], [-2,2], 0)"
   ]
  },
  {
   "cell_type": "code",
   "execution_count": 36,
   "metadata": {},
   "outputs": [
    {
     "name": "stdout",
     "output_type": "stream",
     "text": [
      "Function is undefined at 0, as it is trying to divide by zero\n"
     ]
    },
    {
     "data": {
      "text/plain": [
       "0"
      ]
     },
     "execution_count": 36,
     "metadata": {},
     "output_type": "execute_result"
    }
   ],
   "source": [
    "# check of zeros\n",
    "eval_poly_number([1,2], [-2,2], 0)"
   ]
  },
  {
   "cell_type": "code",
   "execution_count": 37,
   "metadata": {},
   "outputs": [
    {
     "name": "stdout",
     "output_type": "stream",
     "text": [
      "f(x) = 1x^2 + 2x^3 + 3x^4\n",
      "f(2) = 68\n"
     ]
    }
   ],
   "source": [
    "# checking muiltple number \n",
    "eval_poly([1,2,3], [2,3,4], 2)"
   ]
  },
  {
   "cell_type": "code",
   "execution_count": 38,
   "metadata": {},
   "outputs": [
    {
     "data": {
      "text/plain": [
       "68"
      ]
     },
     "execution_count": 38,
     "metadata": {},
     "output_type": "execute_result"
    }
   ],
   "source": [
    "# checking muiltple number \n",
    "eval_poly_number([1,2,3], [2,3,4], 2)"
   ]
  },
  {
   "cell_type": "code",
   "execution_count": 39,
   "metadata": {},
   "outputs": [
    {
     "name": "stdout",
     "output_type": "stream",
     "text": [
      "Please input 1 or more values for coefficents & powers \n",
      " and make sure you have the same number of coefficeints as powers. Use power = 0 for constants\n"
     ]
    }
   ],
   "source": [
    "# checking muiltple number \n",
    "eval_poly([], [], 1)"
   ]
  },
  {
   "cell_type": "code",
   "execution_count": 40,
   "metadata": {},
   "outputs": [
    {
     "name": "stdout",
     "output_type": "stream",
     "text": [
      "Please input 1 or more values for coefficents & powers \n",
      " and make sure you have the same number of coefficeints as powers. Use power = 0 for constants\n"
     ]
    }
   ],
   "source": [
    "# checking muiltple number \n",
    "eval_poly_number([], [], 1)"
   ]
  },
  {
   "cell_type": "code",
   "execution_count": 41,
   "metadata": {},
   "outputs": [
    {
     "name": "stdout",
     "output_type": "stream",
     "text": [
      "Please input 1 or more values for coefficents & powers \n",
      " and make sure you have the same number of coefficeints as powers. Use power = 0 for constants\n"
     ]
    }
   ],
   "source": [
    "# checking muiltple number \n",
    "eval_poly([2], [], 1)"
   ]
  },
  {
   "cell_type": "code",
   "execution_count": 42,
   "metadata": {},
   "outputs": [
    {
     "name": "stdout",
     "output_type": "stream",
     "text": [
      "Please input 1 or more values for coefficents & powers \n",
      " and make sure you have the same number of coefficeints as powers. Use power = 0 for constants\n"
     ]
    }
   ],
   "source": [
    "# checking muiltple number \n",
    "eval_poly_number([2], [], 1)"
   ]
  },
  {
   "cell_type": "code",
   "execution_count": 43,
   "metadata": {},
   "outputs": [],
   "source": [
    "#function that performs first principles to calculate/approx. the derivative \n",
    "# f'(x) ~= (f(x + h) - f(x)) / h\n",
    "\n",
    "def first_principles_diff(coeffs , powers , val_of_x , h ):\n",
    "    \"\"\"Function that performs first priciples derivation: f'(x) ~= (f(x + h) - f(x)) / h ,\n",
    "    inputs are a python list of the coefficients of the function, python list of the powers of the coeffieients\n",
    "    value of x, and a value of h\"\"\"\n",
    "    \n",
    "    diff = ( eval_poly_number(coeffs ,powers , (val_of_x + h))  - eval_poly_number(coeffs, powers ,val_of_x) ) / h\n",
    "    return diff "
   ]
  },
  {
   "cell_type": "code",
   "execution_count": 44,
   "metadata": {},
   "outputs": [],
   "source": [
    "# function that evlauates first principle at a value of x, and allows to chose steps size\n",
    "# Showing first principles differentiation works, and as the smaller the value of h becomes, it converges to the real\n",
    "# differentiated value using  x**n , would be =  n * x ** (n-1)\n",
    "\n",
    "def first_principal_eval(coeffs , powers , val_of_x , steps ):\n",
    "    \n",
    "    #creating 9 steps, each of size 1 through 10 multiplied by step size ( i.e 0.01)\n",
    "    j = [x_*steps for x_ in range(1, 10)] \n",
    "\n",
    "    # reversing the list, as it looks natural when looking at the print out its converging to real differentiated value\n",
    "    j.reverse()\n",
    "    \n",
    "    # evaluating each iteration of first_principles_diff at val_of_x , for each step j\n",
    "    for h in j:\n",
    "        y = first_principles_diff( coeffs , powers , val_of_x , h)\n",
    "        print(y)\n",
    "        "
   ]
  },
  {
   "cell_type": "code",
   "execution_count": 45,
   "metadata": {},
   "outputs": [
    {
     "name": "stdout",
     "output_type": "stream",
     "text": [
      "4.089999999999991\n",
      "4.080000000000005\n",
      "4.069999999999992\n",
      "4.059999999999997\n",
      "4.049999999999994\n",
      "4.039999999999999\n",
      "4.029999999999964\n",
      "4.020000000000001\n",
      "4.009999999999891\n"
     ]
    }
   ],
   "source": [
    "first_principal_eval( [1] , [2] , 2 , 0.01)"
   ]
  },
  {
   "cell_type": "code",
   "execution_count": 46,
   "metadata": {},
   "outputs": [
    {
     "name": "stdout",
     "output_type": "stream",
     "text": [
      "30.269999999999996\n",
      "30.240000000000045\n",
      "30.209999999999983\n",
      "30.179999999999772\n",
      "30.149999999999864\n",
      "30.120000000000147\n",
      "30.090000000000337\n",
      "30.059999999998865\n",
      "30.02999999999929\n"
     ]
    }
   ],
   "source": [
    "first_principal_eval( [1,2] , [2,2] , 5 , 0.01 )"
   ]
  },
  {
   "cell_type": "code",
   "execution_count": 47,
   "metadata": {},
   "outputs": [
    {
     "name": "stdout",
     "output_type": "stream",
     "text": [
      "19.089999999999918\n",
      "19.07999999999994\n",
      "19.070000000000064\n",
      "19.060000000000343\n",
      "19.050000000000296\n",
      "19.03999999999968\n",
      "19.029999999999824\n",
      "19.019999999999726\n",
      "19.010000000000105\n"
     ]
    }
   ],
   "source": [
    "first_principal_eval( [3,2] , [1,2] , 4 , 0.005 )"
   ]
  },
  {
   "cell_type": "code",
   "execution_count": 48,
   "metadata": {},
   "outputs": [],
   "source": [
    "import matplotlib.pyplot as plt \n",
    "\n",
    "def display_graphs( coeffs , powers , start_range, end_range, steps ):\n",
    "    \"\"\"Function that displays the graph of f(x) in blue , and f'(x) in red\n",
    "    inputs are a python list of the coefficients, python list of the coefficients powers, a start range, end range\n",
    "    and how small you want your steps to be\"\"\"\n",
    "    \n",
    "    #calculating steps , formula taken from sulis site , and made adjustable \n",
    "    x_ = [x_* steps  for x_ in range(start_range, end_range)]\n",
    "\n",
    "    # initalizing variables\n",
    "    function_eval_at_x = []\n",
    "    diff_function_eval_at_x = []\n",
    "    \n",
    "    # differentiating the inputted function which will return:  a python list of the coefficients (diff_result[0]), \n",
    "    # and a python list of the coefficients powers (diff_result[1])\n",
    "    diff_result = differentiate_number(coeffs, powers)\n",
    "\n",
    "    # evaluating both f(x) and f'(x) at a value of x , for each step x_\n",
    "    for k in x_:\n",
    "        \n",
    "        function_eval_at_x.append(eval_poly_number(coeffs, powers , k))\n",
    "        diff_function_eval_at_x.append(eval_poly_number(diff_result[0], diff_result[1], k))\n",
    "    \n",
    "    \n",
    "   \n",
    "    plt.plot(x_ ,function_eval_at_x , label = \"f(x)\" )\n",
    "    plt.plot(x_ , diff_function_eval_at_x , \"r--\", label = \"f'(x)\"  )\n",
    "    plt.legend(loc='upper left' , fontsize = \"x-large\")\n",
    "    plt.xlabel(\"x\")\n",
    "    plt.ylabel(\"Value of the function\")\n",
    "    plt.title(\"Graph of f(x) and f'(x)\")\n",
    "    plt.show\n",
    "    plt.show"
   ]
  },
  {
   "cell_type": "code",
   "execution_count": 49,
   "metadata": {},
   "outputs": [
    {
     "data": {
      "image/png": "[encoded data removed]",
      "text/plain": [
       "<Figure size 432x288 with 1 Axes>"
      ]
     },
     "metadata": {
      "needs_background": "light"
     },
     "output_type": "display_data"
    }
   ],
   "source": [
    "# f(x) = x^2  so f'(x) = 2x\n",
    "display_graphs([1] , [2] , -40, 40, 0.1 )"
   ]
  },
  {
   "cell_type": "code",
   "execution_count": 50,
   "metadata": {},
   "outputs": [
    {
     "data": {
      "image/png": "[encoded data removed]",
      "text/plain": [
       "<Figure size 432x288 with 1 Axes>"
      ]
     },
     "metadata": {
      "needs_background": "light"
     },
     "output_type": "display_data"
    }
   ],
   "source": [
    "# f(x) = 1x^1 + 2   which is just x+2    f'(x) = 1 \n",
    "display_graphs([1,2] , [1,0] , -10, 60, 0.1)"
   ]
  },
  {
   "cell_type": "code",
   "execution_count": 51,
   "metadata": {},
   "outputs": [
    {
     "data": {
      "image/png": "[encoded data removed]",
      "text/plain": [
       "<Figure size 432x288 with 1 Axes>"
      ]
     },
     "metadata": {
      "needs_background": "light"
     },
     "output_type": "display_data"
    }
   ],
   "source": [
    "#f(x) = x + 2x^2      f'(x) = 1 + 4(x)\n",
    "display_graphs([1,2] , [1,2] , -40, 40, 0.1)"
   ]
  },
  {
   "cell_type": "code",
   "execution_count": null,
   "metadata": {},
   "outputs": [],
   "source": []
  }
 ],
 "metadata": {
  "kernelspec": {
   "display_name": "Python 3",
   "language": "python",
   "name": "python3"
  },
  "language_info": {
   "codemirror_mode": {
    "name": "ipython",
    "version": 3
   },
   "file_extension": ".py",
   "mimetype": "text/x-python",
   "name": "python",
   "nbconvert_exporter": "python",
   "pygments_lexer": "ipython3",
   "version": "3.8.3"
  }
 },
 "nbformat": 4,
 "nbformat_minor": 4
}
