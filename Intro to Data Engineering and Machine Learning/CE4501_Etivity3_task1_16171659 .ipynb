{
 "cells": [
  {
   "cell_type": "markdown",
   "metadata": {},
   "source": [
    "### Student Details"
   ]
  },
  {
   "cell_type": "markdown",
   "metadata": {},
   "source": [
    "Student Name: Cathaoir Agnew"
   ]
  },
  {
   "cell_type": "markdown",
   "metadata": {},
   "source": [
    "Student ID: 16171659"
   ]
  },
  {
   "cell_type": "markdown",
   "metadata": {},
   "source": [
    "# Task 1 "
   ]
  },
  {
   "cell_type": "markdown",
   "metadata": {},
   "source": [
    "## Uniform & Discrete Experiment\n",
    "\n",
    "My first experiment will roll a dice. A gamble is placed depending on the result of the dice. <br>\n",
    "This result of a dice roll is a uniform distribution, as all dice outcomes are equally likely; 1/6 probablility  <br>\n",
    "The result is discrete as the result of a dice throw can only take on values of: 1,2,3,4,5,6\n",
    "\n",
    " - if dice = 1,2,3  will lose -1 \n",
    " - if dice = 4      will draw, 0\n",
    " - if dice = 5      will win,  1\n",
    " - if dice = 6      will win,  2\n",
    " \n",
    "We know this is a fair game theoritically, but what will the simulations show?  <br>\n",
    "\n",
    "The idea was to simulate 1000 dice results and record both the result of the dice, and the result of the gamble. <br>\n",
    "To then calculate the expected value & standard deviation of both the result of the dice and the result of the gamble. <br>\n",
    "\n",
    "Finally plotting the frequency of the dice rolls & plotting the frequency of the gamble result. "
   ]
  },
  {
   "cell_type": "code",
   "execution_count": 1,
   "metadata": {},
   "outputs": [
    {
     "name": "stdout",
     "output_type": "stream",
     "text": [
      "Average value of dice roll 3.506\n",
      "Average gamble result: 0.01\n",
      "Std of dice roll: 1.7204545910892366\n",
      "Std of gamble result: 1.1661475035346025\n"
     ]
    },
    {
     "data": {
      "image/png": "[encoded data removed]",
      "text/plain": [
       "<Figure size 720x360 with 1 Axes>"
      ]
     },
     "metadata": {
      "needs_background": "light"
     },
     "output_type": "display_data"
    }
   ],
   "source": [
    "# import libraries \n",
    "import random \n",
    "import matplotlib.pyplot as plt \n",
    "\n",
    "# set a random seed\n",
    "random.seed(42)\n",
    "\n",
    "# going to roll the dice 1000 times\n",
    "num_of_rolls = 1000\n",
    "\n",
    "list_result = []\n",
    "gamble_result = []\n",
    "\n",
    "# random module random actually produces a uniform distribution as default\n",
    "# this is discussed in sorcratica video: Python Random Number Generator\n",
    "\n",
    "# going to roll the dice 1000 times  \n",
    "for i in range(num_of_rolls):\n",
    "    gamble = 0\n",
    "    #simulating 1st roll of dice \n",
    "    result = random.randint(1, 6)\n",
    "    \n",
    "    #check to see what result of dice is, if 3 or below, lose money\n",
    "    if result <= 3:\n",
    "        gamble -= 1\n",
    "    #check to see what result of dice is, if 4, its a draw, no change, ie 0\n",
    "    if result == 4:\n",
    "        gamble = gamble\n",
    "    #check to see what result of dice is, if 5, win +1 money    \n",
    "    elif result == 5:\n",
    "        gamble +=1\n",
    "    #check to see what result of dice is, if 6, win +2 money    \n",
    "    elif result == 6:\n",
    "        gamble +=2\n",
    "        \n",
    "    # adding the result of the individual dice throw to a list \n",
    "    list_result.append(result)\n",
    "    # adding the result of the gamble for the individual game\n",
    "    gamble_result.append(gamble)\n",
    "\n",
    "        \n",
    "# this is for calculating the frequency/average result of the dice rolls \n",
    "experiment_result = 0\n",
    "\n",
    "# this is for calculating the frequency/average result of the gamble result\n",
    "experiment_gamble_result = 0\n",
    "\n",
    "# loop through each result from the dice throw\n",
    "for result in list_result:\n",
    "    # summing up the entire results, so then can calcualte the mean result (i.e expected outcome) \n",
    "    experiment_result += result\n",
    "    \n",
    "# loop through each result from the gamble result\n",
    "for gam_result in gamble_result:\n",
    "    # summing up the entire results, so then can calcualte the mean result (i.e expected outcome) \n",
    "    experiment_gamble_result += gam_result\n",
    "\n",
    "    \n",
    "# expected value of a dice roll is just mean of possible outcomes =  ( 1+2+3+4+5+6 / 6 ) = 3.5\n",
    "avg_result = experiment_result / len(list_result) \n",
    "print(\"Average value of dice roll\" , avg_result)\n",
    "\n",
    "# expected value of a game is just the gamble outcomes * probabilty of outcome =  -1*(3/6) + 1(1/6) + 2(1/6) = 0 \n",
    "avg_gamble_result = experiment_gamble_result / len(gamble_result) \n",
    "print(\"Average gamble result:\" , avg_gamble_result)\n",
    "\n",
    "\n",
    "# this is for calculating std . dev of dice throw \n",
    "x_subtract_mu_squared = 0\n",
    "# this is for calculating std . dev of gamble result\n",
    "x_subtract_gamble_mu_squared = 0\n",
    "\n",
    "# this is for calculating part of std . dev of dice throw \n",
    "for result in list_result:\n",
    "    x_subtract_mu_squared += (result - avg_result)**2\n",
    "    \n",
    "# this is for calculating part of std . dev of gamble result   \n",
    "for gam_result in gamble_result:\n",
    "    x_subtract_gamble_mu_squared += (gam_result - avg_gamble_result)**2\n",
    "\n",
    "# calculating std dev of dice throw \n",
    "std_dev = ( (x_subtract_mu_squared /len(list_result) ) **(1/2))\n",
    "\n",
    "# calculating std dev of gamble result\n",
    "std_dev_gamble = ( (x_subtract_gamble_mu_squared /len(gamble_result) ) **(1/2))\n",
    "\n",
    "print(\"Std of dice roll:\", std_dev)\n",
    "\n",
    "print(\"Std of gamble result:\", std_dev_gamble)\n",
    "\n",
    "# plot of distribution of summed result\n",
    "plt.figure(figsize=(10,5))\n",
    "plt.hist(list_result, bins = 11)\n",
    "\n",
    "#this would be the expected frequency for a perfect uniform distribtuion\n",
    "plt.axhline(y=(num_of_rolls/6), color='r', linestyle='-')\n",
    "\n",
    "plt.xlabel(\"Result of dice\")\n",
    "plt.ylabel(\"Frequency of number\")\n",
    "plt.show()"
   ]
  },
  {
   "cell_type": "markdown",
   "metadata": {},
   "source": [
    "### Plot of gamble results\n",
    "We can see alot of the results were actually -1, but the expected outcome of the experiment is actually approx 0. "
   ]
  },
  {
   "cell_type": "code",
   "execution_count": 2,
   "metadata": {},
   "outputs": [
    {
     "data": {
      "image/png": "[encoded data removed]",
      "text/plain": [
       "<Figure size 432x288 with 1 Axes>"
      ]
     },
     "metadata": {
      "needs_background": "light"
     },
     "output_type": "display_data"
    }
   ],
   "source": [
    "plt.hist(gamble_result)\n",
    "plt.xlabel(\"Result of gamble games\")\n",
    "plt.ylabel(\"Frequency of gamble result\")\n",
    "plt.show()"
   ]
  },
  {
   "cell_type": "markdown",
   "metadata": {},
   "source": [
    "## Normal & Continious Experiment \n",
    "\n",
    "Test results of some made up exam/test/whatever really <br>\n",
    "This will be a normally distributed variable, and will be continious as test result could take on any value <br>\n",
    "How much would it costs to pay people for good scores? <br> \n",
    "\n",
    " - Using properties of Normal Distribution\n",
    " - We expect 99.7% of data within mean +- 3( std . dev)\n",
    " - So marks would be roughly within 0-100, using a mean of 50, and std of 15\n",
    " \n",
    "Going to consider paying students for grades below:\n",
    " \n",
    " - If test result < 50 , get nothing\n",
    " - If test result is between 50 & 75 = 5\n",
    " - If test result is between 75 & 100 = 10\n",
    " \n",
    "Going to run for 10,000 simulations "
   ]
  },
  {
   "cell_type": "code",
   "execution_count": 3,
   "metadata": {},
   "outputs": [
    {
     "name": "stdout",
     "output_type": "stream",
     "text": [
      "Average test result: 49.963338314803025\n",
      "Average cost per student for result:  2.749\n",
      "Std Dev of test results: 15.22659310423451\n",
      "Std Dev of cost: 0.9413830782417946\n"
     ]
    },
    {
     "data": {
      "image/png": "[encoded data removed]",
      "text/plain": [
       "<Figure size 720x360 with 1 Axes>"
      ]
     },
     "metadata": {
      "needs_background": "light"
     },
     "output_type": "display_data"
    }
   ],
   "source": [
    "# number of iterations \n",
    "num_of_iters = 10000\n",
    "\n",
    "# set a random seed\n",
    "random.seed(42)\n",
    "\n",
    "list_test_result = []\n",
    "cost_result = []\n",
    "\n",
    "# simulating for number of iterations  \n",
    "for i in range(num_of_iters):\n",
    "    \n",
    "    cost_for_good_grade = 0\n",
    "    \n",
    "    # simulating test result for a student \n",
    "    test_result = random.normalvariate(50,15)\n",
    "     \n",
    "    if test_result < 50:\n",
    "        cost_for_good_grade = cost_for_good_grade\n",
    "        \n",
    "    elif test_result >= 50 and test_result < 75 :\n",
    "        cost_for_good_grade = 5\n",
    "        \n",
    "    else:\n",
    "        cost_for_good_grade = 10\n",
    "        \n",
    "    # adding the test_result to a list \n",
    "    list_test_result.append(test_result)\n",
    "    # adding the cost_result to a list \n",
    "    cost_result.append(cost_for_good_grade)\n",
    "    \n",
    "# this is for calculating the frequency/average expected outcome of the test results \n",
    "experiment_test_result = 0\n",
    "\n",
    "# this is for calculating the frequency/average expected outcome of the cost \n",
    "experiment_cost_result = 0\n",
    "\n",
    "for result in list_test_result:\n",
    "    #summing up the entire test results, so then can calcualte the mean result (i.e expected outcome) \n",
    "    experiment_test_result += result\n",
    "\n",
    "# expected value of test result is just the mean of the data \n",
    "avg_test_result = experiment_test_result / len(list_test_result) \n",
    "\n",
    "# we should expect the result to be close to 50, but doesnt have to be exactly 50 either due to randomness\n",
    "print(\"Average test result:\" , avg_test_result)\n",
    "\n",
    "for res in cost_result:\n",
    "    #summing up the entire test results, so then can calcualte the mean result (i.e expected outcome) \n",
    "    experiment_cost_result += res\n",
    "\n",
    "# expected value of test result is just the mean of the data \n",
    "avg_cost_result = experiment_cost_result / len(cost_result) \n",
    "\n",
    "# here we will see what we would expect to pay out if we implmented paying for good grades\n",
    "print(\"Average cost per student for result: \" , avg_cost_result)\n",
    "\n",
    "\n",
    "# this is for calculating part std . dev of test results \n",
    "x_test_subtract_mu_squared = 0\n",
    "# this is for calculating part std . dev of cost\n",
    "x_cost_subtract_mu_squared = 0\n",
    "\n",
    "# this is for calculating part std . dev of test result\n",
    "for result in list_test_result:\n",
    "    x_test_subtract_mu_squared += (result - avg_test_result)**2\n",
    "    \n",
    "# this is for calculating part std . dev ofcost  \n",
    "for cost_res in gamble_result:\n",
    "    x_cost_subtract_mu_squared += (cost_res - avg_cost_result)**2\n",
    "\n",
    "# calculating std dev of test results \n",
    "std_dev = ( (x_test_subtract_mu_squared /len(list_test_result) ) **(1/2))\n",
    "\n",
    "# calculating std dev of cost results \n",
    "std_dev_cost = ( (x_cost_subtract_mu_squared /len(cost_result) ) **(1/2))\n",
    "\n",
    "\n",
    "print(\"Std Dev of test results:\" , std_dev)\n",
    "print(\"Std Dev of cost:\" , std_dev_cost)\n",
    "\n",
    "# plot of distribution of summed result\n",
    "plt.figure(figsize=(10,5))\n",
    "plt.hist(list_test_result,bins = 100)\n",
    "\n",
    "#this would be the expected mean for the normal distibution we created/sampled \n",
    "plt.axvline(x=50, color='r', linestyle='-')\n",
    "\n",
    "plt.xlabel(\"Test result in %\")\n",
    "plt.ylabel(\"Frequency of number\")\n",
    "plt.show()"
   ]
  },
  {
   "cell_type": "markdown",
   "metadata": {},
   "source": [
    "### Plot of cost \n",
    "We can see alot of the results were actually 0 & 5, and that 10 had a smaller frequency in comparison to the others, but the expected outcome of the cost of student is actually approx 2.749"
   ]
  },
  {
   "cell_type": "code",
   "execution_count": 4,
   "metadata": {},
   "outputs": [
    {
     "data": {
      "image/png": "[encoded data removed]",
      "text/plain": [
       "<Figure size 432x288 with 1 Axes>"
      ]
     },
     "metadata": {
      "needs_background": "light"
     },
     "output_type": "display_data"
    }
   ],
   "source": [
    "plt.hist(cost_result,bins = 11)\n",
    "plt.xlabel(\"Payment of money\")\n",
    "plt.ylabel(\"Frequency of payments\")\n",
    "plt.show()"
   ]
  }
 ],
 "metadata": {
  "kernelspec": {
   "display_name": "Python 3",
   "language": "python",
   "name": "python3"
  },
  "language_info": {
   "codemirror_mode": {
    "name": "ipython",
    "version": 3
   },
   "file_extension": ".py",
   "mimetype": "text/x-python",
   "name": "python",
   "nbconvert_exporter": "python",
   "pygments_lexer": "ipython3",
   "version": "3.8.3"
  }
 },
 "nbformat": 4,
 "nbformat_minor": 4
}
